{
  "nbformat": 4,
  "nbformat_minor": 0,
  "metadata": {
    "colab": {
      "provenance": []
    },
    "kernelspec": {
      "name": "python3",
      "display_name": "Python 3"
    },
    "language_info": {
      "name": "python"
    }
  },
  "cells": [
    {
      "cell_type": "markdown",
      "source": [
        "Technological Institute of the Philippines | Quezon City - Computer Engineering\n",
        "--- | ---\n",
        "Course Code: | CPE 019\n",
        "Code Title: | Emerging Technologies in CpE 2\n",
        "2nd Semester | AY 2023-2024\n",
        "<hr> | <hr>\n",
        "<u>**Assignment 8.1** | Saving Models\n",
        "**Name** | Buenafe, Dhafny S.\n",
        "**Section** | CPE32S3\n",
        "**Date Performed**: |April 19, 2024\n",
        "**Date Submitted**: |April 19, 2024\n",
        "**Instructor**: | Engr. Roman Richard\n",
        "\n",
        "<hr>"
      ],
      "metadata": {
        "id": "1QDX5gciT1bc"
      }
    },
    {
      "cell_type": "code",
      "source": [
        "from google.colab import drive\n",
        "drive.mount('/content/drive')"
      ],
      "metadata": {
        "colab": {
          "base_uri": "https://localhost:8080/"
        },
        "id": "wPV33gvlbA38",
        "outputId": "1c0cc0e8-6404-491f-82e6-0727db1e5ab9"
      },
      "execution_count": null,
      "outputs": [
        {
          "output_type": "stream",
          "name": "stdout",
          "text": [
            "Mounted at /content/drive\n"
          ]
        }
      ]
    },
    {
      "cell_type": "code",
      "source": [
        "pip install h5py"
      ],
      "metadata": {
        "colab": {
          "base_uri": "https://localhost:8080/"
        },
        "id": "ORhuQ8Mobav4",
        "outputId": "8dba428f-8197-463d-db73-713b546f1d6e"
      },
      "execution_count": null,
      "outputs": [
        {
          "output_type": "stream",
          "name": "stdout",
          "text": [
            "Requirement already satisfied: h5py in /usr/local/lib/python3.10/dist-packages (3.9.0)\n",
            "Requirement already satisfied: numpy>=1.17.3 in /usr/local/lib/python3.10/dist-packages (from h5py) (1.25.2)\n"
          ]
        }
      ]
    },
    {
      "cell_type": "markdown",
      "source": [
        "#Pre-processing"
      ],
      "metadata": {
        "id": "osU_vznHOxd9"
      }
    },
    {
      "cell_type": "code",
      "source": [
        "from tensorflow.keras.models import Sequential, model_from_json\n",
        "from tensorflow.keras.layers import Dense\n",
        "import pandas as pd\n",
        "import numpy\n",
        "import os"
      ],
      "metadata": {
        "id": "TEjWOkobKBht"
      },
      "execution_count": null,
      "outputs": []
    },
    {
      "cell_type": "code",
      "source": [
        "dataset = pd.read_csv('/content/drive/MyDrive/DATASET/gender_classification_v7.csv')"
      ],
      "metadata": {
        "id": "CYhNM9CeKDWY"
      },
      "execution_count": null,
      "outputs": []
    },
    {
      "cell_type": "markdown",
      "source": [
        "- The dataset I've used is suitable for classification and pertains to gender classification. It consists of seven features: long_hair, forehead_width_cm, forehead_height_cm, nose_wide, nose_long, lips_thin, and distance_nose_to_lip_long. These features will determine the gender of the person.\n"
      ],
      "metadata": {
        "id": "XNbpp0camAdb"
      }
    },
    {
      "cell_type": "code",
      "source": [
        "dataset.head()"
      ],
      "metadata": {
        "colab": {
          "base_uri": "https://localhost:8080/",
          "height": 206
        },
        "id": "vQMSMLqDNctF",
        "outputId": "3fd19e33-85e9-46cf-c5b9-9158eac21adc"
      },
      "execution_count": null,
      "outputs": [
        {
          "output_type": "execute_result",
          "data": {
            "text/plain": [
              "   long_hair  forehead_width_cm  forehead_height_cm  nose_wide  nose_long  \\\n",
              "0          1               11.8                 6.1          1          0   \n",
              "1          0               14.0                 5.4          0          0   \n",
              "2          0               11.8                 6.3          1          1   \n",
              "3          0               14.4                 6.1          0          1   \n",
              "4          1               13.5                 5.9          0          0   \n",
              "\n",
              "   lips_thin  distance_nose_to_lip_long  gender  \n",
              "0          1                          1    Male  \n",
              "1          1                          0  Female  \n",
              "2          1                          1    Male  \n",
              "3          1                          1    Male  \n",
              "4          0                          0  Female  "
            ],
            "text/html": [
              "\n",
              "  <div id=\"df-dbf0b5c5-2342-4182-bcb2-37c13f676e09\" class=\"colab-df-container\">\n",
              "    <div>\n",
              "<style scoped>\n",
              "    .dataframe tbody tr th:only-of-type {\n",
              "        vertical-align: middle;\n",
              "    }\n",
              "\n",
              "    .dataframe tbody tr th {\n",
              "        vertical-align: top;\n",
              "    }\n",
              "\n",
              "    .dataframe thead th {\n",
              "        text-align: right;\n",
              "    }\n",
              "</style>\n",
              "<table border=\"1\" class=\"dataframe\">\n",
              "  <thead>\n",
              "    <tr style=\"text-align: right;\">\n",
              "      <th></th>\n",
              "      <th>long_hair</th>\n",
              "      <th>forehead_width_cm</th>\n",
              "      <th>forehead_height_cm</th>\n",
              "      <th>nose_wide</th>\n",
              "      <th>nose_long</th>\n",
              "      <th>lips_thin</th>\n",
              "      <th>distance_nose_to_lip_long</th>\n",
              "      <th>gender</th>\n",
              "    </tr>\n",
              "  </thead>\n",
              "  <tbody>\n",
              "    <tr>\n",
              "      <th>0</th>\n",
              "      <td>1</td>\n",
              "      <td>11.8</td>\n",
              "      <td>6.1</td>\n",
              "      <td>1</td>\n",
              "      <td>0</td>\n",
              "      <td>1</td>\n",
              "      <td>1</td>\n",
              "      <td>Male</td>\n",
              "    </tr>\n",
              "    <tr>\n",
              "      <th>1</th>\n",
              "      <td>0</td>\n",
              "      <td>14.0</td>\n",
              "      <td>5.4</td>\n",
              "      <td>0</td>\n",
              "      <td>0</td>\n",
              "      <td>1</td>\n",
              "      <td>0</td>\n",
              "      <td>Female</td>\n",
              "    </tr>\n",
              "    <tr>\n",
              "      <th>2</th>\n",
              "      <td>0</td>\n",
              "      <td>11.8</td>\n",
              "      <td>6.3</td>\n",
              "      <td>1</td>\n",
              "      <td>1</td>\n",
              "      <td>1</td>\n",
              "      <td>1</td>\n",
              "      <td>Male</td>\n",
              "    </tr>\n",
              "    <tr>\n",
              "      <th>3</th>\n",
              "      <td>0</td>\n",
              "      <td>14.4</td>\n",
              "      <td>6.1</td>\n",
              "      <td>0</td>\n",
              "      <td>1</td>\n",
              "      <td>1</td>\n",
              "      <td>1</td>\n",
              "      <td>Male</td>\n",
              "    </tr>\n",
              "    <tr>\n",
              "      <th>4</th>\n",
              "      <td>1</td>\n",
              "      <td>13.5</td>\n",
              "      <td>5.9</td>\n",
              "      <td>0</td>\n",
              "      <td>0</td>\n",
              "      <td>0</td>\n",
              "      <td>0</td>\n",
              "      <td>Female</td>\n",
              "    </tr>\n",
              "  </tbody>\n",
              "</table>\n",
              "</div>\n",
              "    <div class=\"colab-df-buttons\">\n",
              "\n",
              "  <div class=\"colab-df-container\">\n",
              "    <button class=\"colab-df-convert\" onclick=\"convertToInteractive('df-dbf0b5c5-2342-4182-bcb2-37c13f676e09')\"\n",
              "            title=\"Convert this dataframe to an interactive table.\"\n",
              "            style=\"display:none;\">\n",
              "\n",
              "  <svg xmlns=\"http://www.w3.org/2000/svg\" height=\"24px\" viewBox=\"0 -960 960 960\">\n",
              "    <path d=\"M120-120v-720h720v720H120Zm60-500h600v-160H180v160Zm220 220h160v-160H400v160Zm0 220h160v-160H400v160ZM180-400h160v-160H180v160Zm440 0h160v-160H620v160ZM180-180h160v-160H180v160Zm440 0h160v-160H620v160Z\"/>\n",
              "  </svg>\n",
              "    </button>\n",
              "\n",
              "  <style>\n",
              "    .colab-df-container {\n",
              "      display:flex;\n",
              "      gap: 12px;\n",
              "    }\n",
              "\n",
              "    .colab-df-convert {\n",
              "      background-color: #E8F0FE;\n",
              "      border: none;\n",
              "      border-radius: 50%;\n",
              "      cursor: pointer;\n",
              "      display: none;\n",
              "      fill: #1967D2;\n",
              "      height: 32px;\n",
              "      padding: 0 0 0 0;\n",
              "      width: 32px;\n",
              "    }\n",
              "\n",
              "    .colab-df-convert:hover {\n",
              "      background-color: #E2EBFA;\n",
              "      box-shadow: 0px 1px 2px rgba(60, 64, 67, 0.3), 0px 1px 3px 1px rgba(60, 64, 67, 0.15);\n",
              "      fill: #174EA6;\n",
              "    }\n",
              "\n",
              "    .colab-df-buttons div {\n",
              "      margin-bottom: 4px;\n",
              "    }\n",
              "\n",
              "    [theme=dark] .colab-df-convert {\n",
              "      background-color: #3B4455;\n",
              "      fill: #D2E3FC;\n",
              "    }\n",
              "\n",
              "    [theme=dark] .colab-df-convert:hover {\n",
              "      background-color: #434B5C;\n",
              "      box-shadow: 0px 1px 3px 1px rgba(0, 0, 0, 0.15);\n",
              "      filter: drop-shadow(0px 1px 2px rgba(0, 0, 0, 0.3));\n",
              "      fill: #FFFFFF;\n",
              "    }\n",
              "  </style>\n",
              "\n",
              "    <script>\n",
              "      const buttonEl =\n",
              "        document.querySelector('#df-dbf0b5c5-2342-4182-bcb2-37c13f676e09 button.colab-df-convert');\n",
              "      buttonEl.style.display =\n",
              "        google.colab.kernel.accessAllowed ? 'block' : 'none';\n",
              "\n",
              "      async function convertToInteractive(key) {\n",
              "        const element = document.querySelector('#df-dbf0b5c5-2342-4182-bcb2-37c13f676e09');\n",
              "        const dataTable =\n",
              "          await google.colab.kernel.invokeFunction('convertToInteractive',\n",
              "                                                    [key], {});\n",
              "        if (!dataTable) return;\n",
              "\n",
              "        const docLinkHtml = 'Like what you see? Visit the ' +\n",
              "          '<a target=\"_blank\" href=https://colab.research.google.com/notebooks/data_table.ipynb>data table notebook</a>'\n",
              "          + ' to learn more about interactive tables.';\n",
              "        element.innerHTML = '';\n",
              "        dataTable['output_type'] = 'display_data';\n",
              "        await google.colab.output.renderOutput(dataTable, element);\n",
              "        const docLink = document.createElement('div');\n",
              "        docLink.innerHTML = docLinkHtml;\n",
              "        element.appendChild(docLink);\n",
              "      }\n",
              "    </script>\n",
              "  </div>\n",
              "\n",
              "\n",
              "<div id=\"df-28ab6c72-83e3-4f6d-bce4-f950b5056a79\">\n",
              "  <button class=\"colab-df-quickchart\" onclick=\"quickchart('df-28ab6c72-83e3-4f6d-bce4-f950b5056a79')\"\n",
              "            title=\"Suggest charts\"\n",
              "            style=\"display:none;\">\n",
              "\n",
              "<svg xmlns=\"http://www.w3.org/2000/svg\" height=\"24px\"viewBox=\"0 0 24 24\"\n",
              "     width=\"24px\">\n",
              "    <g>\n",
              "        <path d=\"M19 3H5c-1.1 0-2 .9-2 2v14c0 1.1.9 2 2 2h14c1.1 0 2-.9 2-2V5c0-1.1-.9-2-2-2zM9 17H7v-7h2v7zm4 0h-2V7h2v10zm4 0h-2v-4h2v4z\"/>\n",
              "    </g>\n",
              "</svg>\n",
              "  </button>\n",
              "\n",
              "<style>\n",
              "  .colab-df-quickchart {\n",
              "      --bg-color: #E8F0FE;\n",
              "      --fill-color: #1967D2;\n",
              "      --hover-bg-color: #E2EBFA;\n",
              "      --hover-fill-color: #174EA6;\n",
              "      --disabled-fill-color: #AAA;\n",
              "      --disabled-bg-color: #DDD;\n",
              "  }\n",
              "\n",
              "  [theme=dark] .colab-df-quickchart {\n",
              "      --bg-color: #3B4455;\n",
              "      --fill-color: #D2E3FC;\n",
              "      --hover-bg-color: #434B5C;\n",
              "      --hover-fill-color: #FFFFFF;\n",
              "      --disabled-bg-color: #3B4455;\n",
              "      --disabled-fill-color: #666;\n",
              "  }\n",
              "\n",
              "  .colab-df-quickchart {\n",
              "    background-color: var(--bg-color);\n",
              "    border: none;\n",
              "    border-radius: 50%;\n",
              "    cursor: pointer;\n",
              "    display: none;\n",
              "    fill: var(--fill-color);\n",
              "    height: 32px;\n",
              "    padding: 0;\n",
              "    width: 32px;\n",
              "  }\n",
              "\n",
              "  .colab-df-quickchart:hover {\n",
              "    background-color: var(--hover-bg-color);\n",
              "    box-shadow: 0 1px 2px rgba(60, 64, 67, 0.3), 0 1px 3px 1px rgba(60, 64, 67, 0.15);\n",
              "    fill: var(--button-hover-fill-color);\n",
              "  }\n",
              "\n",
              "  .colab-df-quickchart-complete:disabled,\n",
              "  .colab-df-quickchart-complete:disabled:hover {\n",
              "    background-color: var(--disabled-bg-color);\n",
              "    fill: var(--disabled-fill-color);\n",
              "    box-shadow: none;\n",
              "  }\n",
              "\n",
              "  .colab-df-spinner {\n",
              "    border: 2px solid var(--fill-color);\n",
              "    border-color: transparent;\n",
              "    border-bottom-color: var(--fill-color);\n",
              "    animation:\n",
              "      spin 1s steps(1) infinite;\n",
              "  }\n",
              "\n",
              "  @keyframes spin {\n",
              "    0% {\n",
              "      border-color: transparent;\n",
              "      border-bottom-color: var(--fill-color);\n",
              "      border-left-color: var(--fill-color);\n",
              "    }\n",
              "    20% {\n",
              "      border-color: transparent;\n",
              "      border-left-color: var(--fill-color);\n",
              "      border-top-color: var(--fill-color);\n",
              "    }\n",
              "    30% {\n",
              "      border-color: transparent;\n",
              "      border-left-color: var(--fill-color);\n",
              "      border-top-color: var(--fill-color);\n",
              "      border-right-color: var(--fill-color);\n",
              "    }\n",
              "    40% {\n",
              "      border-color: transparent;\n",
              "      border-right-color: var(--fill-color);\n",
              "      border-top-color: var(--fill-color);\n",
              "    }\n",
              "    60% {\n",
              "      border-color: transparent;\n",
              "      border-right-color: var(--fill-color);\n",
              "    }\n",
              "    80% {\n",
              "      border-color: transparent;\n",
              "      border-right-color: var(--fill-color);\n",
              "      border-bottom-color: var(--fill-color);\n",
              "    }\n",
              "    90% {\n",
              "      border-color: transparent;\n",
              "      border-bottom-color: var(--fill-color);\n",
              "    }\n",
              "  }\n",
              "</style>\n",
              "\n",
              "  <script>\n",
              "    async function quickchart(key) {\n",
              "      const quickchartButtonEl =\n",
              "        document.querySelector('#' + key + ' button');\n",
              "      quickchartButtonEl.disabled = true;  // To prevent multiple clicks.\n",
              "      quickchartButtonEl.classList.add('colab-df-spinner');\n",
              "      try {\n",
              "        const charts = await google.colab.kernel.invokeFunction(\n",
              "            'suggestCharts', [key], {});\n",
              "      } catch (error) {\n",
              "        console.error('Error during call to suggestCharts:', error);\n",
              "      }\n",
              "      quickchartButtonEl.classList.remove('colab-df-spinner');\n",
              "      quickchartButtonEl.classList.add('colab-df-quickchart-complete');\n",
              "    }\n",
              "    (() => {\n",
              "      let quickchartButtonEl =\n",
              "        document.querySelector('#df-28ab6c72-83e3-4f6d-bce4-f950b5056a79 button');\n",
              "      quickchartButtonEl.style.display =\n",
              "        google.colab.kernel.accessAllowed ? 'block' : 'none';\n",
              "    })();\n",
              "  </script>\n",
              "</div>\n",
              "    </div>\n",
              "  </div>\n"
            ],
            "application/vnd.google.colaboratory.intrinsic+json": {
              "type": "dataframe",
              "variable_name": "dataset",
              "summary": "{\n  \"name\": \"dataset\",\n  \"rows\": 5001,\n  \"fields\": [\n    {\n      \"column\": \"long_hair\",\n      \"properties\": {\n        \"dtype\": \"number\",\n        \"std\": 0,\n        \"min\": 0,\n        \"max\": 1,\n        \"num_unique_values\": 2,\n        \"samples\": [\n          0,\n          1\n        ],\n        \"semantic_type\": \"\",\n        \"description\": \"\"\n      }\n    },\n    {\n      \"column\": \"forehead_width_cm\",\n      \"properties\": {\n        \"dtype\": \"number\",\n        \"std\": 1.1071283024945044,\n        \"min\": 11.4,\n        \"max\": 15.5,\n        \"num_unique_values\": 42,\n        \"samples\": [\n          11.4,\n          15.2\n        ],\n        \"semantic_type\": \"\",\n        \"description\": \"\"\n      }\n    },\n    {\n      \"column\": \"forehead_height_cm\",\n      \"properties\": {\n        \"dtype\": \"number\",\n        \"std\": 0.5412678510891585,\n        \"min\": 5.1,\n        \"max\": 7.1,\n        \"num_unique_values\": 21,\n        \"samples\": [\n          6.1,\n          5.5\n        ],\n        \"semantic_type\": \"\",\n        \"description\": \"\"\n      }\n    },\n    {\n      \"column\": \"nose_wide\",\n      \"properties\": {\n        \"dtype\": \"number\",\n        \"std\": 0,\n        \"min\": 0,\n        \"max\": 1,\n        \"num_unique_values\": 2,\n        \"samples\": [\n          0,\n          1\n        ],\n        \"semantic_type\": \"\",\n        \"description\": \"\"\n      }\n    },\n    {\n      \"column\": \"nose_long\",\n      \"properties\": {\n        \"dtype\": \"number\",\n        \"std\": 0,\n        \"min\": 0,\n        \"max\": 1,\n        \"num_unique_values\": 2,\n        \"samples\": [\n          1,\n          0\n        ],\n        \"semantic_type\": \"\",\n        \"description\": \"\"\n      }\n    },\n    {\n      \"column\": \"lips_thin\",\n      \"properties\": {\n        \"dtype\": \"number\",\n        \"std\": 0,\n        \"min\": 0,\n        \"max\": 1,\n        \"num_unique_values\": 2,\n        \"samples\": [\n          0,\n          1\n        ],\n        \"semantic_type\": \"\",\n        \"description\": \"\"\n      }\n    },\n    {\n      \"column\": \"distance_nose_to_lip_long\",\n      \"properties\": {\n        \"dtype\": \"number\",\n        \"std\": 0,\n        \"min\": 0,\n        \"max\": 1,\n        \"num_unique_values\": 2,\n        \"samples\": [\n          0,\n          1\n        ],\n        \"semantic_type\": \"\",\n        \"description\": \"\"\n      }\n    },\n    {\n      \"column\": \"gender\",\n      \"properties\": {\n        \"dtype\": \"category\",\n        \"num_unique_values\": 2,\n        \"samples\": [\n          \"Female\",\n          \"Male\"\n        ],\n        \"semantic_type\": \"\",\n        \"description\": \"\"\n      }\n    }\n  ]\n}"
            }
          },
          "metadata": {},
          "execution_count": 5
        }
      ]
    },
    {
      "cell_type": "code",
      "source": [
        "dataset.info()"
      ],
      "metadata": {
        "colab": {
          "base_uri": "https://localhost:8080/"
        },
        "id": "zFSjJK52Nmgf",
        "outputId": "9b562101-6da0-4683-c05d-fb248adb9554"
      },
      "execution_count": null,
      "outputs": [
        {
          "output_type": "stream",
          "name": "stdout",
          "text": [
            "<class 'pandas.core.frame.DataFrame'>\n",
            "RangeIndex: 5001 entries, 0 to 5000\n",
            "Data columns (total 8 columns):\n",
            " #   Column                     Non-Null Count  Dtype  \n",
            "---  ------                     --------------  -----  \n",
            " 0   long_hair                  5001 non-null   int64  \n",
            " 1   forehead_width_cm          5001 non-null   float64\n",
            " 2   forehead_height_cm         5001 non-null   float64\n",
            " 3   nose_wide                  5001 non-null   int64  \n",
            " 4   nose_long                  5001 non-null   int64  \n",
            " 5   lips_thin                  5001 non-null   int64  \n",
            " 6   distance_nose_to_lip_long  5001 non-null   int64  \n",
            " 7   gender                     5001 non-null   object \n",
            "dtypes: float64(2), int64(5), object(1)\n",
            "memory usage: 312.7+ KB\n"
          ]
        }
      ]
    },
    {
      "cell_type": "code",
      "source": [
        "dataset.isnull().sum()"
      ],
      "metadata": {
        "colab": {
          "base_uri": "https://localhost:8080/"
        },
        "id": "I9BncvY9Nyvr",
        "outputId": "277a4f2c-c855-432c-dc5d-e4128fff913d"
      },
      "execution_count": null,
      "outputs": [
        {
          "output_type": "execute_result",
          "data": {
            "text/plain": [
              "long_hair                    0\n",
              "forehead_width_cm            0\n",
              "forehead_height_cm           0\n",
              "nose_wide                    0\n",
              "nose_long                    0\n",
              "lips_thin                    0\n",
              "distance_nose_to_lip_long    0\n",
              "gender                       0\n",
              "dtype: int64"
            ]
          },
          "metadata": {},
          "execution_count": 7
        }
      ]
    },
    {
      "cell_type": "code",
      "source": [
        "dataset[\"gender\"] = dataset[\"gender\"].apply(lambda toLabel: 0 if toLabel == 'Male' else 1)"
      ],
      "metadata": {
        "id": "kIW7H5CfNslw"
      },
      "execution_count": null,
      "outputs": []
    },
    {
      "cell_type": "code",
      "source": [
        "dataset.head()"
      ],
      "metadata": {
        "colab": {
          "base_uri": "https://localhost:8080/",
          "height": 206
        },
        "id": "4DETuKGvOMzE",
        "outputId": "44c25fb7-396a-4f6c-decc-f99eaad3f862"
      },
      "execution_count": null,
      "outputs": [
        {
          "output_type": "execute_result",
          "data": {
            "text/plain": [
              "   long_hair  forehead_width_cm  forehead_height_cm  nose_wide  nose_long  \\\n",
              "0          1               11.8                 6.1          1          0   \n",
              "1          0               14.0                 5.4          0          0   \n",
              "2          0               11.8                 6.3          1          1   \n",
              "3          0               14.4                 6.1          0          1   \n",
              "4          1               13.5                 5.9          0          0   \n",
              "\n",
              "   lips_thin  distance_nose_to_lip_long  gender  \n",
              "0          1                          1       0  \n",
              "1          1                          0       1  \n",
              "2          1                          1       0  \n",
              "3          1                          1       0  \n",
              "4          0                          0       1  "
            ],
            "text/html": [
              "\n",
              "  <div id=\"df-8a87efb8-9415-48ad-b760-ec83af6b2233\" class=\"colab-df-container\">\n",
              "    <div>\n",
              "<style scoped>\n",
              "    .dataframe tbody tr th:only-of-type {\n",
              "        vertical-align: middle;\n",
              "    }\n",
              "\n",
              "    .dataframe tbody tr th {\n",
              "        vertical-align: top;\n",
              "    }\n",
              "\n",
              "    .dataframe thead th {\n",
              "        text-align: right;\n",
              "    }\n",
              "</style>\n",
              "<table border=\"1\" class=\"dataframe\">\n",
              "  <thead>\n",
              "    <tr style=\"text-align: right;\">\n",
              "      <th></th>\n",
              "      <th>long_hair</th>\n",
              "      <th>forehead_width_cm</th>\n",
              "      <th>forehead_height_cm</th>\n",
              "      <th>nose_wide</th>\n",
              "      <th>nose_long</th>\n",
              "      <th>lips_thin</th>\n",
              "      <th>distance_nose_to_lip_long</th>\n",
              "      <th>gender</th>\n",
              "    </tr>\n",
              "  </thead>\n",
              "  <tbody>\n",
              "    <tr>\n",
              "      <th>0</th>\n",
              "      <td>1</td>\n",
              "      <td>11.8</td>\n",
              "      <td>6.1</td>\n",
              "      <td>1</td>\n",
              "      <td>0</td>\n",
              "      <td>1</td>\n",
              "      <td>1</td>\n",
              "      <td>0</td>\n",
              "    </tr>\n",
              "    <tr>\n",
              "      <th>1</th>\n",
              "      <td>0</td>\n",
              "      <td>14.0</td>\n",
              "      <td>5.4</td>\n",
              "      <td>0</td>\n",
              "      <td>0</td>\n",
              "      <td>1</td>\n",
              "      <td>0</td>\n",
              "      <td>1</td>\n",
              "    </tr>\n",
              "    <tr>\n",
              "      <th>2</th>\n",
              "      <td>0</td>\n",
              "      <td>11.8</td>\n",
              "      <td>6.3</td>\n",
              "      <td>1</td>\n",
              "      <td>1</td>\n",
              "      <td>1</td>\n",
              "      <td>1</td>\n",
              "      <td>0</td>\n",
              "    </tr>\n",
              "    <tr>\n",
              "      <th>3</th>\n",
              "      <td>0</td>\n",
              "      <td>14.4</td>\n",
              "      <td>6.1</td>\n",
              "      <td>0</td>\n",
              "      <td>1</td>\n",
              "      <td>1</td>\n",
              "      <td>1</td>\n",
              "      <td>0</td>\n",
              "    </tr>\n",
              "    <tr>\n",
              "      <th>4</th>\n",
              "      <td>1</td>\n",
              "      <td>13.5</td>\n",
              "      <td>5.9</td>\n",
              "      <td>0</td>\n",
              "      <td>0</td>\n",
              "      <td>0</td>\n",
              "      <td>0</td>\n",
              "      <td>1</td>\n",
              "    </tr>\n",
              "  </tbody>\n",
              "</table>\n",
              "</div>\n",
              "    <div class=\"colab-df-buttons\">\n",
              "\n",
              "  <div class=\"colab-df-container\">\n",
              "    <button class=\"colab-df-convert\" onclick=\"convertToInteractive('df-8a87efb8-9415-48ad-b760-ec83af6b2233')\"\n",
              "            title=\"Convert this dataframe to an interactive table.\"\n",
              "            style=\"display:none;\">\n",
              "\n",
              "  <svg xmlns=\"http://www.w3.org/2000/svg\" height=\"24px\" viewBox=\"0 -960 960 960\">\n",
              "    <path d=\"M120-120v-720h720v720H120Zm60-500h600v-160H180v160Zm220 220h160v-160H400v160Zm0 220h160v-160H400v160ZM180-400h160v-160H180v160Zm440 0h160v-160H620v160ZM180-180h160v-160H180v160Zm440 0h160v-160H620v160Z\"/>\n",
              "  </svg>\n",
              "    </button>\n",
              "\n",
              "  <style>\n",
              "    .colab-df-container {\n",
              "      display:flex;\n",
              "      gap: 12px;\n",
              "    }\n",
              "\n",
              "    .colab-df-convert {\n",
              "      background-color: #E8F0FE;\n",
              "      border: none;\n",
              "      border-radius: 50%;\n",
              "      cursor: pointer;\n",
              "      display: none;\n",
              "      fill: #1967D2;\n",
              "      height: 32px;\n",
              "      padding: 0 0 0 0;\n",
              "      width: 32px;\n",
              "    }\n",
              "\n",
              "    .colab-df-convert:hover {\n",
              "      background-color: #E2EBFA;\n",
              "      box-shadow: 0px 1px 2px rgba(60, 64, 67, 0.3), 0px 1px 3px 1px rgba(60, 64, 67, 0.15);\n",
              "      fill: #174EA6;\n",
              "    }\n",
              "\n",
              "    .colab-df-buttons div {\n",
              "      margin-bottom: 4px;\n",
              "    }\n",
              "\n",
              "    [theme=dark] .colab-df-convert {\n",
              "      background-color: #3B4455;\n",
              "      fill: #D2E3FC;\n",
              "    }\n",
              "\n",
              "    [theme=dark] .colab-df-convert:hover {\n",
              "      background-color: #434B5C;\n",
              "      box-shadow: 0px 1px 3px 1px rgba(0, 0, 0, 0.15);\n",
              "      filter: drop-shadow(0px 1px 2px rgba(0, 0, 0, 0.3));\n",
              "      fill: #FFFFFF;\n",
              "    }\n",
              "  </style>\n",
              "\n",
              "    <script>\n",
              "      const buttonEl =\n",
              "        document.querySelector('#df-8a87efb8-9415-48ad-b760-ec83af6b2233 button.colab-df-convert');\n",
              "      buttonEl.style.display =\n",
              "        google.colab.kernel.accessAllowed ? 'block' : 'none';\n",
              "\n",
              "      async function convertToInteractive(key) {\n",
              "        const element = document.querySelector('#df-8a87efb8-9415-48ad-b760-ec83af6b2233');\n",
              "        const dataTable =\n",
              "          await google.colab.kernel.invokeFunction('convertToInteractive',\n",
              "                                                    [key], {});\n",
              "        if (!dataTable) return;\n",
              "\n",
              "        const docLinkHtml = 'Like what you see? Visit the ' +\n",
              "          '<a target=\"_blank\" href=https://colab.research.google.com/notebooks/data_table.ipynb>data table notebook</a>'\n",
              "          + ' to learn more about interactive tables.';\n",
              "        element.innerHTML = '';\n",
              "        dataTable['output_type'] = 'display_data';\n",
              "        await google.colab.output.renderOutput(dataTable, element);\n",
              "        const docLink = document.createElement('div');\n",
              "        docLink.innerHTML = docLinkHtml;\n",
              "        element.appendChild(docLink);\n",
              "      }\n",
              "    </script>\n",
              "  </div>\n",
              "\n",
              "\n",
              "<div id=\"df-a83b94f1-fa66-4b57-a18b-d8507489ce76\">\n",
              "  <button class=\"colab-df-quickchart\" onclick=\"quickchart('df-a83b94f1-fa66-4b57-a18b-d8507489ce76')\"\n",
              "            title=\"Suggest charts\"\n",
              "            style=\"display:none;\">\n",
              "\n",
              "<svg xmlns=\"http://www.w3.org/2000/svg\" height=\"24px\"viewBox=\"0 0 24 24\"\n",
              "     width=\"24px\">\n",
              "    <g>\n",
              "        <path d=\"M19 3H5c-1.1 0-2 .9-2 2v14c0 1.1.9 2 2 2h14c1.1 0 2-.9 2-2V5c0-1.1-.9-2-2-2zM9 17H7v-7h2v7zm4 0h-2V7h2v10zm4 0h-2v-4h2v4z\"/>\n",
              "    </g>\n",
              "</svg>\n",
              "  </button>\n",
              "\n",
              "<style>\n",
              "  .colab-df-quickchart {\n",
              "      --bg-color: #E8F0FE;\n",
              "      --fill-color: #1967D2;\n",
              "      --hover-bg-color: #E2EBFA;\n",
              "      --hover-fill-color: #174EA6;\n",
              "      --disabled-fill-color: #AAA;\n",
              "      --disabled-bg-color: #DDD;\n",
              "  }\n",
              "\n",
              "  [theme=dark] .colab-df-quickchart {\n",
              "      --bg-color: #3B4455;\n",
              "      --fill-color: #D2E3FC;\n",
              "      --hover-bg-color: #434B5C;\n",
              "      --hover-fill-color: #FFFFFF;\n",
              "      --disabled-bg-color: #3B4455;\n",
              "      --disabled-fill-color: #666;\n",
              "  }\n",
              "\n",
              "  .colab-df-quickchart {\n",
              "    background-color: var(--bg-color);\n",
              "    border: none;\n",
              "    border-radius: 50%;\n",
              "    cursor: pointer;\n",
              "    display: none;\n",
              "    fill: var(--fill-color);\n",
              "    height: 32px;\n",
              "    padding: 0;\n",
              "    width: 32px;\n",
              "  }\n",
              "\n",
              "  .colab-df-quickchart:hover {\n",
              "    background-color: var(--hover-bg-color);\n",
              "    box-shadow: 0 1px 2px rgba(60, 64, 67, 0.3), 0 1px 3px 1px rgba(60, 64, 67, 0.15);\n",
              "    fill: var(--button-hover-fill-color);\n",
              "  }\n",
              "\n",
              "  .colab-df-quickchart-complete:disabled,\n",
              "  .colab-df-quickchart-complete:disabled:hover {\n",
              "    background-color: var(--disabled-bg-color);\n",
              "    fill: var(--disabled-fill-color);\n",
              "    box-shadow: none;\n",
              "  }\n",
              "\n",
              "  .colab-df-spinner {\n",
              "    border: 2px solid var(--fill-color);\n",
              "    border-color: transparent;\n",
              "    border-bottom-color: var(--fill-color);\n",
              "    animation:\n",
              "      spin 1s steps(1) infinite;\n",
              "  }\n",
              "\n",
              "  @keyframes spin {\n",
              "    0% {\n",
              "      border-color: transparent;\n",
              "      border-bottom-color: var(--fill-color);\n",
              "      border-left-color: var(--fill-color);\n",
              "    }\n",
              "    20% {\n",
              "      border-color: transparent;\n",
              "      border-left-color: var(--fill-color);\n",
              "      border-top-color: var(--fill-color);\n",
              "    }\n",
              "    30% {\n",
              "      border-color: transparent;\n",
              "      border-left-color: var(--fill-color);\n",
              "      border-top-color: var(--fill-color);\n",
              "      border-right-color: var(--fill-color);\n",
              "    }\n",
              "    40% {\n",
              "      border-color: transparent;\n",
              "      border-right-color: var(--fill-color);\n",
              "      border-top-color: var(--fill-color);\n",
              "    }\n",
              "    60% {\n",
              "      border-color: transparent;\n",
              "      border-right-color: var(--fill-color);\n",
              "    }\n",
              "    80% {\n",
              "      border-color: transparent;\n",
              "      border-right-color: var(--fill-color);\n",
              "      border-bottom-color: var(--fill-color);\n",
              "    }\n",
              "    90% {\n",
              "      border-color: transparent;\n",
              "      border-bottom-color: var(--fill-color);\n",
              "    }\n",
              "  }\n",
              "</style>\n",
              "\n",
              "  <script>\n",
              "    async function quickchart(key) {\n",
              "      const quickchartButtonEl =\n",
              "        document.querySelector('#' + key + ' button');\n",
              "      quickchartButtonEl.disabled = true;  // To prevent multiple clicks.\n",
              "      quickchartButtonEl.classList.add('colab-df-spinner');\n",
              "      try {\n",
              "        const charts = await google.colab.kernel.invokeFunction(\n",
              "            'suggestCharts', [key], {});\n",
              "      } catch (error) {\n",
              "        console.error('Error during call to suggestCharts:', error);\n",
              "      }\n",
              "      quickchartButtonEl.classList.remove('colab-df-spinner');\n",
              "      quickchartButtonEl.classList.add('colab-df-quickchart-complete');\n",
              "    }\n",
              "    (() => {\n",
              "      let quickchartButtonEl =\n",
              "        document.querySelector('#df-a83b94f1-fa66-4b57-a18b-d8507489ce76 button');\n",
              "      quickchartButtonEl.style.display =\n",
              "        google.colab.kernel.accessAllowed ? 'block' : 'none';\n",
              "    })();\n",
              "  </script>\n",
              "</div>\n",
              "    </div>\n",
              "  </div>\n"
            ],
            "application/vnd.google.colaboratory.intrinsic+json": {
              "type": "dataframe",
              "variable_name": "dataset",
              "summary": "{\n  \"name\": \"dataset\",\n  \"rows\": 5001,\n  \"fields\": [\n    {\n      \"column\": \"long_hair\",\n      \"properties\": {\n        \"dtype\": \"number\",\n        \"std\": 0,\n        \"min\": 0,\n        \"max\": 1,\n        \"num_unique_values\": 2,\n        \"samples\": [\n          0,\n          1\n        ],\n        \"semantic_type\": \"\",\n        \"description\": \"\"\n      }\n    },\n    {\n      \"column\": \"forehead_width_cm\",\n      \"properties\": {\n        \"dtype\": \"number\",\n        \"std\": 1.1071283024945044,\n        \"min\": 11.4,\n        \"max\": 15.5,\n        \"num_unique_values\": 42,\n        \"samples\": [\n          11.4,\n          15.2\n        ],\n        \"semantic_type\": \"\",\n        \"description\": \"\"\n      }\n    },\n    {\n      \"column\": \"forehead_height_cm\",\n      \"properties\": {\n        \"dtype\": \"number\",\n        \"std\": 0.5412678510891585,\n        \"min\": 5.1,\n        \"max\": 7.1,\n        \"num_unique_values\": 21,\n        \"samples\": [\n          6.1,\n          5.5\n        ],\n        \"semantic_type\": \"\",\n        \"description\": \"\"\n      }\n    },\n    {\n      \"column\": \"nose_wide\",\n      \"properties\": {\n        \"dtype\": \"number\",\n        \"std\": 0,\n        \"min\": 0,\n        \"max\": 1,\n        \"num_unique_values\": 2,\n        \"samples\": [\n          0,\n          1\n        ],\n        \"semantic_type\": \"\",\n        \"description\": \"\"\n      }\n    },\n    {\n      \"column\": \"nose_long\",\n      \"properties\": {\n        \"dtype\": \"number\",\n        \"std\": 0,\n        \"min\": 0,\n        \"max\": 1,\n        \"num_unique_values\": 2,\n        \"samples\": [\n          1,\n          0\n        ],\n        \"semantic_type\": \"\",\n        \"description\": \"\"\n      }\n    },\n    {\n      \"column\": \"lips_thin\",\n      \"properties\": {\n        \"dtype\": \"number\",\n        \"std\": 0,\n        \"min\": 0,\n        \"max\": 1,\n        \"num_unique_values\": 2,\n        \"samples\": [\n          0,\n          1\n        ],\n        \"semantic_type\": \"\",\n        \"description\": \"\"\n      }\n    },\n    {\n      \"column\": \"distance_nose_to_lip_long\",\n      \"properties\": {\n        \"dtype\": \"number\",\n        \"std\": 0,\n        \"min\": 0,\n        \"max\": 1,\n        \"num_unique_values\": 2,\n        \"samples\": [\n          0,\n          1\n        ],\n        \"semantic_type\": \"\",\n        \"description\": \"\"\n      }\n    },\n    {\n      \"column\": \"gender\",\n      \"properties\": {\n        \"dtype\": \"number\",\n        \"std\": 0,\n        \"min\": 0,\n        \"max\": 1,\n        \"num_unique_values\": 2,\n        \"samples\": [\n          1,\n          0\n        ],\n        \"semantic_type\": \"\",\n        \"description\": \"\"\n      }\n    }\n  ]\n}"
            }
          },
          "metadata": {},
          "execution_count": 9
        }
      ]
    },
    {
      "cell_type": "code",
      "source": [
        "y = (dataset[\"gender\"])\n",
        "y"
      ],
      "metadata": {
        "colab": {
          "base_uri": "https://localhost:8080/"
        },
        "id": "C_KLpzS1OQxA",
        "outputId": "d7a7ab26-b02b-4393-c6bc-fcab04808033"
      },
      "execution_count": null,
      "outputs": [
        {
          "output_type": "execute_result",
          "data": {
            "text/plain": [
              "0       0\n",
              "1       1\n",
              "2       0\n",
              "3       0\n",
              "4       1\n",
              "       ..\n",
              "4996    1\n",
              "4997    1\n",
              "4998    1\n",
              "4999    1\n",
              "5000    0\n",
              "Name: gender, Length: 5001, dtype: int64"
            ]
          },
          "metadata": {},
          "execution_count": 10
        }
      ]
    },
    {
      "cell_type": "code",
      "source": [
        "x = dataset.drop([\"gender\"], axis=1)\n",
        "x"
      ],
      "metadata": {
        "colab": {
          "base_uri": "https://localhost:8080/",
          "height": 424
        },
        "id": "Kfuc1qtYOXMf",
        "outputId": "8f2abbe5-088b-4db8-925c-eeb0896c1f07"
      },
      "execution_count": null,
      "outputs": [
        {
          "output_type": "execute_result",
          "data": {
            "text/plain": [
              "      long_hair  forehead_width_cm  forehead_height_cm  nose_wide  nose_long  \\\n",
              "0             1               11.8                 6.1          1          0   \n",
              "1             0               14.0                 5.4          0          0   \n",
              "2             0               11.8                 6.3          1          1   \n",
              "3             0               14.4                 6.1          0          1   \n",
              "4             1               13.5                 5.9          0          0   \n",
              "...         ...                ...                 ...        ...        ...   \n",
              "4996          1               13.6                 5.1          0          0   \n",
              "4997          1               11.9                 5.4          0          0   \n",
              "4998          1               12.9                 5.7          0          0   \n",
              "4999          1               13.2                 6.2          0          0   \n",
              "5000          1               15.4                 5.4          1          1   \n",
              "\n",
              "      lips_thin  distance_nose_to_lip_long  \n",
              "0             1                          1  \n",
              "1             1                          0  \n",
              "2             1                          1  \n",
              "3             1                          1  \n",
              "4             0                          0  \n",
              "...         ...                        ...  \n",
              "4996          0                          0  \n",
              "4997          0                          0  \n",
              "4998          0                          0  \n",
              "4999          0                          0  \n",
              "5000          1                          1  \n",
              "\n",
              "[5001 rows x 7 columns]"
            ],
            "text/html": [
              "\n",
              "  <div id=\"df-f8333bbf-dac1-4d4e-936d-930d6f301680\" class=\"colab-df-container\">\n",
              "    <div>\n",
              "<style scoped>\n",
              "    .dataframe tbody tr th:only-of-type {\n",
              "        vertical-align: middle;\n",
              "    }\n",
              "\n",
              "    .dataframe tbody tr th {\n",
              "        vertical-align: top;\n",
              "    }\n",
              "\n",
              "    .dataframe thead th {\n",
              "        text-align: right;\n",
              "    }\n",
              "</style>\n",
              "<table border=\"1\" class=\"dataframe\">\n",
              "  <thead>\n",
              "    <tr style=\"text-align: right;\">\n",
              "      <th></th>\n",
              "      <th>long_hair</th>\n",
              "      <th>forehead_width_cm</th>\n",
              "      <th>forehead_height_cm</th>\n",
              "      <th>nose_wide</th>\n",
              "      <th>nose_long</th>\n",
              "      <th>lips_thin</th>\n",
              "      <th>distance_nose_to_lip_long</th>\n",
              "    </tr>\n",
              "  </thead>\n",
              "  <tbody>\n",
              "    <tr>\n",
              "      <th>0</th>\n",
              "      <td>1</td>\n",
              "      <td>11.8</td>\n",
              "      <td>6.1</td>\n",
              "      <td>1</td>\n",
              "      <td>0</td>\n",
              "      <td>1</td>\n",
              "      <td>1</td>\n",
              "    </tr>\n",
              "    <tr>\n",
              "      <th>1</th>\n",
              "      <td>0</td>\n",
              "      <td>14.0</td>\n",
              "      <td>5.4</td>\n",
              "      <td>0</td>\n",
              "      <td>0</td>\n",
              "      <td>1</td>\n",
              "      <td>0</td>\n",
              "    </tr>\n",
              "    <tr>\n",
              "      <th>2</th>\n",
              "      <td>0</td>\n",
              "      <td>11.8</td>\n",
              "      <td>6.3</td>\n",
              "      <td>1</td>\n",
              "      <td>1</td>\n",
              "      <td>1</td>\n",
              "      <td>1</td>\n",
              "    </tr>\n",
              "    <tr>\n",
              "      <th>3</th>\n",
              "      <td>0</td>\n",
              "      <td>14.4</td>\n",
              "      <td>6.1</td>\n",
              "      <td>0</td>\n",
              "      <td>1</td>\n",
              "      <td>1</td>\n",
              "      <td>1</td>\n",
              "    </tr>\n",
              "    <tr>\n",
              "      <th>4</th>\n",
              "      <td>1</td>\n",
              "      <td>13.5</td>\n",
              "      <td>5.9</td>\n",
              "      <td>0</td>\n",
              "      <td>0</td>\n",
              "      <td>0</td>\n",
              "      <td>0</td>\n",
              "    </tr>\n",
              "    <tr>\n",
              "      <th>...</th>\n",
              "      <td>...</td>\n",
              "      <td>...</td>\n",
              "      <td>...</td>\n",
              "      <td>...</td>\n",
              "      <td>...</td>\n",
              "      <td>...</td>\n",
              "      <td>...</td>\n",
              "    </tr>\n",
              "    <tr>\n",
              "      <th>4996</th>\n",
              "      <td>1</td>\n",
              "      <td>13.6</td>\n",
              "      <td>5.1</td>\n",
              "      <td>0</td>\n",
              "      <td>0</td>\n",
              "      <td>0</td>\n",
              "      <td>0</td>\n",
              "    </tr>\n",
              "    <tr>\n",
              "      <th>4997</th>\n",
              "      <td>1</td>\n",
              "      <td>11.9</td>\n",
              "      <td>5.4</td>\n",
              "      <td>0</td>\n",
              "      <td>0</td>\n",
              "      <td>0</td>\n",
              "      <td>0</td>\n",
              "    </tr>\n",
              "    <tr>\n",
              "      <th>4998</th>\n",
              "      <td>1</td>\n",
              "      <td>12.9</td>\n",
              "      <td>5.7</td>\n",
              "      <td>0</td>\n",
              "      <td>0</td>\n",
              "      <td>0</td>\n",
              "      <td>0</td>\n",
              "    </tr>\n",
              "    <tr>\n",
              "      <th>4999</th>\n",
              "      <td>1</td>\n",
              "      <td>13.2</td>\n",
              "      <td>6.2</td>\n",
              "      <td>0</td>\n",
              "      <td>0</td>\n",
              "      <td>0</td>\n",
              "      <td>0</td>\n",
              "    </tr>\n",
              "    <tr>\n",
              "      <th>5000</th>\n",
              "      <td>1</td>\n",
              "      <td>15.4</td>\n",
              "      <td>5.4</td>\n",
              "      <td>1</td>\n",
              "      <td>1</td>\n",
              "      <td>1</td>\n",
              "      <td>1</td>\n",
              "    </tr>\n",
              "  </tbody>\n",
              "</table>\n",
              "<p>5001 rows × 7 columns</p>\n",
              "</div>\n",
              "    <div class=\"colab-df-buttons\">\n",
              "\n",
              "  <div class=\"colab-df-container\">\n",
              "    <button class=\"colab-df-convert\" onclick=\"convertToInteractive('df-f8333bbf-dac1-4d4e-936d-930d6f301680')\"\n",
              "            title=\"Convert this dataframe to an interactive table.\"\n",
              "            style=\"display:none;\">\n",
              "\n",
              "  <svg xmlns=\"http://www.w3.org/2000/svg\" height=\"24px\" viewBox=\"0 -960 960 960\">\n",
              "    <path d=\"M120-120v-720h720v720H120Zm60-500h600v-160H180v160Zm220 220h160v-160H400v160Zm0 220h160v-160H400v160ZM180-400h160v-160H180v160Zm440 0h160v-160H620v160ZM180-180h160v-160H180v160Zm440 0h160v-160H620v160Z\"/>\n",
              "  </svg>\n",
              "    </button>\n",
              "\n",
              "  <style>\n",
              "    .colab-df-container {\n",
              "      display:flex;\n",
              "      gap: 12px;\n",
              "    }\n",
              "\n",
              "    .colab-df-convert {\n",
              "      background-color: #E8F0FE;\n",
              "      border: none;\n",
              "      border-radius: 50%;\n",
              "      cursor: pointer;\n",
              "      display: none;\n",
              "      fill: #1967D2;\n",
              "      height: 32px;\n",
              "      padding: 0 0 0 0;\n",
              "      width: 32px;\n",
              "    }\n",
              "\n",
              "    .colab-df-convert:hover {\n",
              "      background-color: #E2EBFA;\n",
              "      box-shadow: 0px 1px 2px rgba(60, 64, 67, 0.3), 0px 1px 3px 1px rgba(60, 64, 67, 0.15);\n",
              "      fill: #174EA6;\n",
              "    }\n",
              "\n",
              "    .colab-df-buttons div {\n",
              "      margin-bottom: 4px;\n",
              "    }\n",
              "\n",
              "    [theme=dark] .colab-df-convert {\n",
              "      background-color: #3B4455;\n",
              "      fill: #D2E3FC;\n",
              "    }\n",
              "\n",
              "    [theme=dark] .colab-df-convert:hover {\n",
              "      background-color: #434B5C;\n",
              "      box-shadow: 0px 1px 3px 1px rgba(0, 0, 0, 0.15);\n",
              "      filter: drop-shadow(0px 1px 2px rgba(0, 0, 0, 0.3));\n",
              "      fill: #FFFFFF;\n",
              "    }\n",
              "  </style>\n",
              "\n",
              "    <script>\n",
              "      const buttonEl =\n",
              "        document.querySelector('#df-f8333bbf-dac1-4d4e-936d-930d6f301680 button.colab-df-convert');\n",
              "      buttonEl.style.display =\n",
              "        google.colab.kernel.accessAllowed ? 'block' : 'none';\n",
              "\n",
              "      async function convertToInteractive(key) {\n",
              "        const element = document.querySelector('#df-f8333bbf-dac1-4d4e-936d-930d6f301680');\n",
              "        const dataTable =\n",
              "          await google.colab.kernel.invokeFunction('convertToInteractive',\n",
              "                                                    [key], {});\n",
              "        if (!dataTable) return;\n",
              "\n",
              "        const docLinkHtml = 'Like what you see? Visit the ' +\n",
              "          '<a target=\"_blank\" href=https://colab.research.google.com/notebooks/data_table.ipynb>data table notebook</a>'\n",
              "          + ' to learn more about interactive tables.';\n",
              "        element.innerHTML = '';\n",
              "        dataTable['output_type'] = 'display_data';\n",
              "        await google.colab.output.renderOutput(dataTable, element);\n",
              "        const docLink = document.createElement('div');\n",
              "        docLink.innerHTML = docLinkHtml;\n",
              "        element.appendChild(docLink);\n",
              "      }\n",
              "    </script>\n",
              "  </div>\n",
              "\n",
              "\n",
              "<div id=\"df-fa463ffc-2e61-41f9-b28b-b9474e647c20\">\n",
              "  <button class=\"colab-df-quickchart\" onclick=\"quickchart('df-fa463ffc-2e61-41f9-b28b-b9474e647c20')\"\n",
              "            title=\"Suggest charts\"\n",
              "            style=\"display:none;\">\n",
              "\n",
              "<svg xmlns=\"http://www.w3.org/2000/svg\" height=\"24px\"viewBox=\"0 0 24 24\"\n",
              "     width=\"24px\">\n",
              "    <g>\n",
              "        <path d=\"M19 3H5c-1.1 0-2 .9-2 2v14c0 1.1.9 2 2 2h14c1.1 0 2-.9 2-2V5c0-1.1-.9-2-2-2zM9 17H7v-7h2v7zm4 0h-2V7h2v10zm4 0h-2v-4h2v4z\"/>\n",
              "    </g>\n",
              "</svg>\n",
              "  </button>\n",
              "\n",
              "<style>\n",
              "  .colab-df-quickchart {\n",
              "      --bg-color: #E8F0FE;\n",
              "      --fill-color: #1967D2;\n",
              "      --hover-bg-color: #E2EBFA;\n",
              "      --hover-fill-color: #174EA6;\n",
              "      --disabled-fill-color: #AAA;\n",
              "      --disabled-bg-color: #DDD;\n",
              "  }\n",
              "\n",
              "  [theme=dark] .colab-df-quickchart {\n",
              "      --bg-color: #3B4455;\n",
              "      --fill-color: #D2E3FC;\n",
              "      --hover-bg-color: #434B5C;\n",
              "      --hover-fill-color: #FFFFFF;\n",
              "      --disabled-bg-color: #3B4455;\n",
              "      --disabled-fill-color: #666;\n",
              "  }\n",
              "\n",
              "  .colab-df-quickchart {\n",
              "    background-color: var(--bg-color);\n",
              "    border: none;\n",
              "    border-radius: 50%;\n",
              "    cursor: pointer;\n",
              "    display: none;\n",
              "    fill: var(--fill-color);\n",
              "    height: 32px;\n",
              "    padding: 0;\n",
              "    width: 32px;\n",
              "  }\n",
              "\n",
              "  .colab-df-quickchart:hover {\n",
              "    background-color: var(--hover-bg-color);\n",
              "    box-shadow: 0 1px 2px rgba(60, 64, 67, 0.3), 0 1px 3px 1px rgba(60, 64, 67, 0.15);\n",
              "    fill: var(--button-hover-fill-color);\n",
              "  }\n",
              "\n",
              "  .colab-df-quickchart-complete:disabled,\n",
              "  .colab-df-quickchart-complete:disabled:hover {\n",
              "    background-color: var(--disabled-bg-color);\n",
              "    fill: var(--disabled-fill-color);\n",
              "    box-shadow: none;\n",
              "  }\n",
              "\n",
              "  .colab-df-spinner {\n",
              "    border: 2px solid var(--fill-color);\n",
              "    border-color: transparent;\n",
              "    border-bottom-color: var(--fill-color);\n",
              "    animation:\n",
              "      spin 1s steps(1) infinite;\n",
              "  }\n",
              "\n",
              "  @keyframes spin {\n",
              "    0% {\n",
              "      border-color: transparent;\n",
              "      border-bottom-color: var(--fill-color);\n",
              "      border-left-color: var(--fill-color);\n",
              "    }\n",
              "    20% {\n",
              "      border-color: transparent;\n",
              "      border-left-color: var(--fill-color);\n",
              "      border-top-color: var(--fill-color);\n",
              "    }\n",
              "    30% {\n",
              "      border-color: transparent;\n",
              "      border-left-color: var(--fill-color);\n",
              "      border-top-color: var(--fill-color);\n",
              "      border-right-color: var(--fill-color);\n",
              "    }\n",
              "    40% {\n",
              "      border-color: transparent;\n",
              "      border-right-color: var(--fill-color);\n",
              "      border-top-color: var(--fill-color);\n",
              "    }\n",
              "    60% {\n",
              "      border-color: transparent;\n",
              "      border-right-color: var(--fill-color);\n",
              "    }\n",
              "    80% {\n",
              "      border-color: transparent;\n",
              "      border-right-color: var(--fill-color);\n",
              "      border-bottom-color: var(--fill-color);\n",
              "    }\n",
              "    90% {\n",
              "      border-color: transparent;\n",
              "      border-bottom-color: var(--fill-color);\n",
              "    }\n",
              "  }\n",
              "</style>\n",
              "\n",
              "  <script>\n",
              "    async function quickchart(key) {\n",
              "      const quickchartButtonEl =\n",
              "        document.querySelector('#' + key + ' button');\n",
              "      quickchartButtonEl.disabled = true;  // To prevent multiple clicks.\n",
              "      quickchartButtonEl.classList.add('colab-df-spinner');\n",
              "      try {\n",
              "        const charts = await google.colab.kernel.invokeFunction(\n",
              "            'suggestCharts', [key], {});\n",
              "      } catch (error) {\n",
              "        console.error('Error during call to suggestCharts:', error);\n",
              "      }\n",
              "      quickchartButtonEl.classList.remove('colab-df-spinner');\n",
              "      quickchartButtonEl.classList.add('colab-df-quickchart-complete');\n",
              "    }\n",
              "    (() => {\n",
              "      let quickchartButtonEl =\n",
              "        document.querySelector('#df-fa463ffc-2e61-41f9-b28b-b9474e647c20 button');\n",
              "      quickchartButtonEl.style.display =\n",
              "        google.colab.kernel.accessAllowed ? 'block' : 'none';\n",
              "    })();\n",
              "  </script>\n",
              "</div>\n",
              "    </div>\n",
              "  </div>\n"
            ],
            "application/vnd.google.colaboratory.intrinsic+json": {
              "type": "dataframe",
              "variable_name": "x",
              "summary": "{\n  \"name\": \"x\",\n  \"rows\": 5001,\n  \"fields\": [\n    {\n      \"column\": \"long_hair\",\n      \"properties\": {\n        \"dtype\": \"number\",\n        \"std\": 0,\n        \"min\": 0,\n        \"max\": 1,\n        \"num_unique_values\": 2,\n        \"samples\": [\n          0,\n          1\n        ],\n        \"semantic_type\": \"\",\n        \"description\": \"\"\n      }\n    },\n    {\n      \"column\": \"forehead_width_cm\",\n      \"properties\": {\n        \"dtype\": \"number\",\n        \"std\": 1.1071283024945044,\n        \"min\": 11.4,\n        \"max\": 15.5,\n        \"num_unique_values\": 42,\n        \"samples\": [\n          11.4,\n          15.2\n        ],\n        \"semantic_type\": \"\",\n        \"description\": \"\"\n      }\n    },\n    {\n      \"column\": \"forehead_height_cm\",\n      \"properties\": {\n        \"dtype\": \"number\",\n        \"std\": 0.5412678510891585,\n        \"min\": 5.1,\n        \"max\": 7.1,\n        \"num_unique_values\": 21,\n        \"samples\": [\n          6.1,\n          5.5\n        ],\n        \"semantic_type\": \"\",\n        \"description\": \"\"\n      }\n    },\n    {\n      \"column\": \"nose_wide\",\n      \"properties\": {\n        \"dtype\": \"number\",\n        \"std\": 0,\n        \"min\": 0,\n        \"max\": 1,\n        \"num_unique_values\": 2,\n        \"samples\": [\n          0,\n          1\n        ],\n        \"semantic_type\": \"\",\n        \"description\": \"\"\n      }\n    },\n    {\n      \"column\": \"nose_long\",\n      \"properties\": {\n        \"dtype\": \"number\",\n        \"std\": 0,\n        \"min\": 0,\n        \"max\": 1,\n        \"num_unique_values\": 2,\n        \"samples\": [\n          1,\n          0\n        ],\n        \"semantic_type\": \"\",\n        \"description\": \"\"\n      }\n    },\n    {\n      \"column\": \"lips_thin\",\n      \"properties\": {\n        \"dtype\": \"number\",\n        \"std\": 0,\n        \"min\": 0,\n        \"max\": 1,\n        \"num_unique_values\": 2,\n        \"samples\": [\n          0,\n          1\n        ],\n        \"semantic_type\": \"\",\n        \"description\": \"\"\n      }\n    },\n    {\n      \"column\": \"distance_nose_to_lip_long\",\n      \"properties\": {\n        \"dtype\": \"number\",\n        \"std\": 0,\n        \"min\": 0,\n        \"max\": 1,\n        \"num_unique_values\": 2,\n        \"samples\": [\n          0,\n          1\n        ],\n        \"semantic_type\": \"\",\n        \"description\": \"\"\n      }\n    }\n  ]\n}"
            }
          },
          "metadata": {},
          "execution_count": 11
        }
      ]
    },
    {
      "cell_type": "markdown",
      "source": [
        "#Creating model"
      ],
      "metadata": {
        "id": "wqjd115dOrPW"
      }
    },
    {
      "cell_type": "code",
      "source": [
        "model = Sequential()\n",
        "model.add(Dense(4, input_dim=7, activation='relu'))\n",
        "model.add(Dense(8, activation='relu'))\n",
        "model.add(Dense(16, activation='relu'))\n",
        "model.add(Dense(1, activation='sigmoid'))\n",
        "\n",
        "model.summary()"
      ],
      "metadata": {
        "id": "aFuE05hHOm98",
        "colab": {
          "base_uri": "https://localhost:8080/"
        },
        "outputId": "bc50c446-4db5-459e-84e6-c965b94fad7e"
      },
      "execution_count": null,
      "outputs": [
        {
          "output_type": "stream",
          "name": "stdout",
          "text": [
            "Model: \"sequential\"\n",
            "_________________________________________________________________\n",
            " Layer (type)                Output Shape              Param #   \n",
            "=================================================================\n",
            " dense (Dense)               (None, 4)                 32        \n",
            "                                                                 \n",
            " dense_1 (Dense)             (None, 8)                 40        \n",
            "                                                                 \n",
            " dense_2 (Dense)             (None, 16)                144       \n",
            "                                                                 \n",
            " dense_3 (Dense)             (None, 1)                 17        \n",
            "                                                                 \n",
            "=================================================================\n",
            "Total params: 233 (932.00 Byte)\n",
            "Trainable params: 233 (932.00 Byte)\n",
            "Non-trainable params: 0 (0.00 Byte)\n",
            "_________________________________________________________________\n"
          ]
        }
      ]
    },
    {
      "cell_type": "code",
      "source": [
        "# Compile model\n",
        "model.compile(optimizer='adam', loss='binary_crossentropy', metrics=['accuracy'])\n",
        "\n",
        "# Fit the model\n",
        "model.fit(x, y, epochs=150, batch_size=10, verbose=0)\n",
        "\n",
        "# evaluate the model\n",
        "scores = model.evaluate(x, y, verbose=0)\n",
        "print(\"%s: %.2f%%\" % (model.metrics_names[1], scores[1]*100))"
      ],
      "metadata": {
        "colab": {
          "base_uri": "https://localhost:8080/"
        },
        "id": "VX8IQzbYPzVm",
        "outputId": "c55f7061-d7fb-4b6c-d9b7-79aad4215a36"
      },
      "execution_count": null,
      "outputs": [
        {
          "output_type": "stream",
          "name": "stdout",
          "text": [
            "accuracy: 96.92%\n"
          ]
        }
      ]
    },
    {
      "cell_type": "markdown",
      "source": [
        "#Save and Load JSON Format"
      ],
      "metadata": {
        "id": "ox_gRqUKaih8"
      }
    },
    {
      "cell_type": "code",
      "source": [
        "# serialize model to JSON\n",
        "model_json = model.to_json()\n",
        "with open(\"model.json\", \"w\") as json_file:\n",
        "    json_file.write(model_json)\n",
        "# serialize weights to HDF5\n",
        "model.save_weights(\"/content/drive/MyDrive/Assignment 8.1/JSON_Model.h5\")\n",
        "print(\"Saved model to disk\")\n",
        "\n",
        "# load json and create model\n",
        "json_file = open('model.json', 'r')\n",
        "loaded_model_json = json_file.read()\n",
        "json_file.close()\n",
        "loaded_model = model_from_json(loaded_model_json)\n",
        "# load weights into new model\n",
        "loaded_model.load_weights(\"/content/drive/MyDrive/Assignment 8.1/JSON_Model.h5\")\n",
        "print(\"Loaded model from disk\")"
      ],
      "metadata": {
        "colab": {
          "base_uri": "https://localhost:8080/"
        },
        "id": "iuINAyudZ5cQ",
        "outputId": "8ac8052a-27e3-45ed-9b37-9082eb538e85"
      },
      "execution_count": null,
      "outputs": [
        {
          "output_type": "stream",
          "name": "stdout",
          "text": [
            "Saved model to disk\n",
            "Loaded model from disk\n"
          ]
        }
      ]
    },
    {
      "cell_type": "code",
      "source": [
        "# evaluate loaded model on test data\n",
        "loaded_model.compile(loss='binary_crossentropy', optimizer='rmsprop', metrics=['accuracy'])\n",
        "score = loaded_model.evaluate(x, y, verbose=0)\n",
        "print(\"%s: %.2f%%\" % (loaded_model.metrics_names[1], score[1]*100))"
      ],
      "metadata": {
        "colab": {
          "base_uri": "https://localhost:8080/"
        },
        "id": "cjS_rqu-aRxc",
        "outputId": "4d85a2f5-9938-4fa3-c707-a2f6bb408976"
      },
      "execution_count": null,
      "outputs": [
        {
          "output_type": "stream",
          "name": "stdout",
          "text": [
            "accuracy: 96.92%\n"
          ]
        }
      ]
    },
    {
      "cell_type": "markdown",
      "source": [
        "#Save and Load YAML"
      ],
      "metadata": {
        "id": "JWnMw8Gma25u"
      }
    },
    {
      "cell_type": "code",
      "source": [
        "# serialize model to YAML\n",
        "model_yaml = model.to_json()\n",
        "with open(\"model.yaml\", \"w\") as yaml_file:\n",
        "    yaml_file.write(model_yaml)\n",
        "# serialize weights to HDF5\n",
        "model.save_weights(\"/content/drive/MyDrive/Assignment 8.1/YAML_Model.h5\")\n",
        "print(\"Saved model to disk\")\n",
        "\n",
        "# load YAML and create model\n",
        "yaml_file = open('model.yaml', 'r')\n",
        "loaded_model_yaml = yaml_file.read()\n",
        "yaml_file.close()\n",
        "loaded_model = model_from_json(loaded_model_yaml)\n",
        "# load weights into new model\n",
        "loaded_model.load_weights(\"/content/drive/MyDrive/Assignment 8.1/YAML_Model.h5\")\n",
        "print(\"Loaded model from disk\")"
      ],
      "metadata": {
        "colab": {
          "base_uri": "https://localhost:8080/"
        },
        "id": "W-J6IO2pa5ny",
        "outputId": "b651dc2a-f495-494f-c2e3-f57885429d01"
      },
      "execution_count": null,
      "outputs": [
        {
          "output_type": "stream",
          "name": "stdout",
          "text": [
            "Saved model to disk\n",
            "Loaded model from disk\n"
          ]
        }
      ]
    },
    {
      "cell_type": "code",
      "source": [
        "# evaluate loaded model on test data\n",
        "loaded_model.compile(loss='binary_crossentropy', optimizer='rmsprop', metrics=['accuracy'])\n",
        "score = loaded_model.evaluate(x, y, verbose=0)\n",
        "print(\"%s: %.2f%%\" % (loaded_model.metrics_names[1], score[1]*100))"
      ],
      "metadata": {
        "colab": {
          "base_uri": "https://localhost:8080/"
        },
        "id": "WXG5j2TYbJiF",
        "outputId": "77066b9c-67e6-475e-e705-89d5070e3883"
      },
      "execution_count": null,
      "outputs": [
        {
          "output_type": "stream",
          "name": "stdout",
          "text": [
            "accuracy: 96.92%\n"
          ]
        }
      ]
    },
    {
      "cell_type": "markdown",
      "source": [
        "#Save a model in HDF5 format"
      ],
      "metadata": {
        "id": "AhaMO63nbY5K"
      }
    },
    {
      "cell_type": "code",
      "source": [
        "model.save(\"/content/drive/MyDrive/Assignment 8.1/Keras_Model.h5\")\n",
        "print(\"Saved model to disk\")"
      ],
      "metadata": {
        "colab": {
          "base_uri": "https://localhost:8080/"
        },
        "id": "LSRMTXu9bP_K",
        "outputId": "b2bf5833-9c63-4005-9990-a34ed94f3a20"
      },
      "execution_count": null,
      "outputs": [
        {
          "output_type": "stream",
          "name": "stdout",
          "text": [
            "Saved model to disk\n"
          ]
        },
        {
          "output_type": "stream",
          "name": "stderr",
          "text": [
            "/usr/local/lib/python3.10/dist-packages/keras/src/engine/training.py:3103: UserWarning: You are saving your model as an HDF5 file via `model.save()`. This file format is considered legacy. We recommend using instead the native Keras format, e.g. `model.save('my_model.keras')`.\n",
            "  saving_api.save_model(\n"
          ]
        }
      ]
    },
    {
      "cell_type": "markdown",
      "source": [
        "#Checkpoint of the Neural Model Improvements"
      ],
      "metadata": {
        "id": "qmvvyIv3cJST"
      }
    },
    {
      "cell_type": "code",
      "source": [
        "from keras.callbacks import ModelCheckpoint\n",
        "import matplotlib.pyplot as plt\n",
        "import tensorflow as tf"
      ],
      "metadata": {
        "id": "8SwNlRgCdGIF"
      },
      "execution_count": null,
      "outputs": []
    },
    {
      "cell_type": "code",
      "source": [
        "# checkpoint\n",
        "filepath=\"/content/drive/MyDrive/Assignment 8.1/weights-improvement-{epoch:02d}-{val_accuracy:.2f}.hdf5\"\n",
        "checkpoint = ModelCheckpoint(filepath, monitor='val_accuracy', verbose=1, save_best_only=True, mode='max')\n",
        "callbacks_list = [checkpoint]\n",
        "\n",
        "# Fit the model\n",
        "model.fit(x, y, validation_split=0.33, epochs=150, batch_size=10, callbacks=callbacks_list, verbose=0)"
      ],
      "metadata": {
        "colab": {
          "base_uri": "https://localhost:8080/"
        },
        "id": "KGHE_j5VcIhp",
        "outputId": "7e670a89-fe24-42fd-a43a-61675fd80f10"
      },
      "execution_count": null,
      "outputs": [
        {
          "output_type": "stream",
          "name": "stdout",
          "text": [
            "\n",
            "Epoch 1: val_accuracy improved from -inf to 0.97093, saving model to /content/drive/MyDrive/Assignment 8.1/weights-improvement-01-0.97.hdf5\n"
          ]
        },
        {
          "output_type": "stream",
          "name": "stderr",
          "text": [
            "/usr/local/lib/python3.10/dist-packages/keras/src/engine/training.py:3103: UserWarning: You are saving your model as an HDF5 file via `model.save()`. This file format is considered legacy. We recommend using instead the native Keras format, e.g. `model.save('my_model.keras')`.\n",
            "  saving_api.save_model(\n"
          ]
        },
        {
          "output_type": "stream",
          "name": "stdout",
          "text": [
            "\n",
            "Epoch 2: val_accuracy did not improve from 0.97093\n",
            "\n",
            "Epoch 3: val_accuracy did not improve from 0.97093\n",
            "\n",
            "Epoch 4: val_accuracy did not improve from 0.97093\n",
            "\n",
            "Epoch 5: val_accuracy did not improve from 0.97093\n",
            "\n",
            "Epoch 6: val_accuracy improved from 0.97093 to 0.97274, saving model to /content/drive/MyDrive/Assignment 8.1/weights-improvement-06-0.97.hdf5\n",
            "\n",
            "Epoch 7: val_accuracy did not improve from 0.97274\n",
            "\n",
            "Epoch 8: val_accuracy did not improve from 0.97274\n",
            "\n",
            "Epoch 9: val_accuracy did not improve from 0.97274\n",
            "\n",
            "Epoch 10: val_accuracy improved from 0.97274 to 0.97335, saving model to /content/drive/MyDrive/Assignment 8.1/weights-improvement-10-0.97.hdf5\n",
            "\n",
            "Epoch 11: val_accuracy did not improve from 0.97335\n",
            "\n",
            "Epoch 12: val_accuracy did not improve from 0.97335\n",
            "\n",
            "Epoch 13: val_accuracy did not improve from 0.97335\n",
            "\n",
            "Epoch 14: val_accuracy did not improve from 0.97335\n",
            "\n",
            "Epoch 15: val_accuracy did not improve from 0.97335\n",
            "\n",
            "Epoch 16: val_accuracy did not improve from 0.97335\n",
            "\n",
            "Epoch 17: val_accuracy did not improve from 0.97335\n",
            "\n",
            "Epoch 18: val_accuracy did not improve from 0.97335\n",
            "\n",
            "Epoch 19: val_accuracy did not improve from 0.97335\n",
            "\n",
            "Epoch 20: val_accuracy did not improve from 0.97335\n",
            "\n",
            "Epoch 21: val_accuracy did not improve from 0.97335\n",
            "\n",
            "Epoch 22: val_accuracy did not improve from 0.97335\n",
            "\n",
            "Epoch 23: val_accuracy did not improve from 0.97335\n",
            "\n",
            "Epoch 24: val_accuracy did not improve from 0.97335\n",
            "\n",
            "Epoch 25: val_accuracy did not improve from 0.97335\n",
            "\n",
            "Epoch 26: val_accuracy did not improve from 0.97335\n",
            "\n",
            "Epoch 27: val_accuracy did not improve from 0.97335\n",
            "\n",
            "Epoch 28: val_accuracy did not improve from 0.97335\n",
            "\n",
            "Epoch 29: val_accuracy did not improve from 0.97335\n",
            "\n",
            "Epoch 30: val_accuracy did not improve from 0.97335\n",
            "\n",
            "Epoch 31: val_accuracy did not improve from 0.97335\n",
            "\n",
            "Epoch 32: val_accuracy did not improve from 0.97335\n",
            "\n",
            "Epoch 33: val_accuracy did not improve from 0.97335\n",
            "\n",
            "Epoch 34: val_accuracy did not improve from 0.97335\n",
            "\n",
            "Epoch 35: val_accuracy did not improve from 0.97335\n",
            "\n",
            "Epoch 36: val_accuracy did not improve from 0.97335\n",
            "\n",
            "Epoch 37: val_accuracy did not improve from 0.97335\n",
            "\n",
            "Epoch 38: val_accuracy did not improve from 0.97335\n",
            "\n",
            "Epoch 39: val_accuracy did not improve from 0.97335\n",
            "\n",
            "Epoch 40: val_accuracy did not improve from 0.97335\n",
            "\n",
            "Epoch 41: val_accuracy did not improve from 0.97335\n",
            "\n",
            "Epoch 42: val_accuracy did not improve from 0.97335\n",
            "\n",
            "Epoch 43: val_accuracy did not improve from 0.97335\n",
            "\n",
            "Epoch 44: val_accuracy did not improve from 0.97335\n",
            "\n",
            "Epoch 45: val_accuracy did not improve from 0.97335\n",
            "\n",
            "Epoch 46: val_accuracy did not improve from 0.97335\n",
            "\n",
            "Epoch 47: val_accuracy did not improve from 0.97335\n",
            "\n",
            "Epoch 48: val_accuracy did not improve from 0.97335\n",
            "\n",
            "Epoch 49: val_accuracy did not improve from 0.97335\n",
            "\n",
            "Epoch 50: val_accuracy did not improve from 0.97335\n",
            "\n",
            "Epoch 51: val_accuracy did not improve from 0.97335\n",
            "\n",
            "Epoch 52: val_accuracy did not improve from 0.97335\n",
            "\n",
            "Epoch 53: val_accuracy did not improve from 0.97335\n",
            "\n",
            "Epoch 54: val_accuracy did not improve from 0.97335\n",
            "\n",
            "Epoch 55: val_accuracy did not improve from 0.97335\n",
            "\n",
            "Epoch 56: val_accuracy did not improve from 0.97335\n",
            "\n",
            "Epoch 57: val_accuracy did not improve from 0.97335\n",
            "\n",
            "Epoch 58: val_accuracy did not improve from 0.97335\n",
            "\n",
            "Epoch 59: val_accuracy did not improve from 0.97335\n",
            "\n",
            "Epoch 60: val_accuracy did not improve from 0.97335\n",
            "\n",
            "Epoch 61: val_accuracy did not improve from 0.97335\n",
            "\n",
            "Epoch 62: val_accuracy did not improve from 0.97335\n",
            "\n",
            "Epoch 63: val_accuracy did not improve from 0.97335\n",
            "\n",
            "Epoch 64: val_accuracy did not improve from 0.97335\n",
            "\n",
            "Epoch 65: val_accuracy did not improve from 0.97335\n",
            "\n",
            "Epoch 66: val_accuracy did not improve from 0.97335\n",
            "\n",
            "Epoch 67: val_accuracy did not improve from 0.97335\n",
            "\n",
            "Epoch 68: val_accuracy did not improve from 0.97335\n",
            "\n",
            "Epoch 69: val_accuracy did not improve from 0.97335\n",
            "\n",
            "Epoch 70: val_accuracy did not improve from 0.97335\n",
            "\n",
            "Epoch 71: val_accuracy did not improve from 0.97335\n",
            "\n",
            "Epoch 72: val_accuracy did not improve from 0.97335\n",
            "\n",
            "Epoch 73: val_accuracy did not improve from 0.97335\n",
            "\n",
            "Epoch 74: val_accuracy did not improve from 0.97335\n",
            "\n",
            "Epoch 75: val_accuracy did not improve from 0.97335\n",
            "\n",
            "Epoch 76: val_accuracy did not improve from 0.97335\n",
            "\n",
            "Epoch 77: val_accuracy did not improve from 0.97335\n",
            "\n",
            "Epoch 78: val_accuracy did not improve from 0.97335\n",
            "\n",
            "Epoch 79: val_accuracy did not improve from 0.97335\n",
            "\n",
            "Epoch 80: val_accuracy did not improve from 0.97335\n",
            "\n",
            "Epoch 81: val_accuracy did not improve from 0.97335\n",
            "\n",
            "Epoch 82: val_accuracy did not improve from 0.97335\n",
            "\n",
            "Epoch 83: val_accuracy did not improve from 0.97335\n",
            "\n",
            "Epoch 84: val_accuracy did not improve from 0.97335\n",
            "\n",
            "Epoch 85: val_accuracy did not improve from 0.97335\n",
            "\n",
            "Epoch 86: val_accuracy did not improve from 0.97335\n",
            "\n",
            "Epoch 87: val_accuracy did not improve from 0.97335\n",
            "\n",
            "Epoch 88: val_accuracy did not improve from 0.97335\n",
            "\n",
            "Epoch 89: val_accuracy did not improve from 0.97335\n",
            "\n",
            "Epoch 90: val_accuracy did not improve from 0.97335\n",
            "\n",
            "Epoch 91: val_accuracy did not improve from 0.97335\n",
            "\n",
            "Epoch 92: val_accuracy did not improve from 0.97335\n",
            "\n",
            "Epoch 93: val_accuracy did not improve from 0.97335\n",
            "\n",
            "Epoch 94: val_accuracy did not improve from 0.97335\n",
            "\n",
            "Epoch 95: val_accuracy did not improve from 0.97335\n",
            "\n",
            "Epoch 96: val_accuracy did not improve from 0.97335\n",
            "\n",
            "Epoch 97: val_accuracy did not improve from 0.97335\n",
            "\n",
            "Epoch 98: val_accuracy did not improve from 0.97335\n",
            "\n",
            "Epoch 99: val_accuracy did not improve from 0.97335\n",
            "\n",
            "Epoch 100: val_accuracy did not improve from 0.97335\n",
            "\n",
            "Epoch 101: val_accuracy did not improve from 0.97335\n",
            "\n",
            "Epoch 102: val_accuracy did not improve from 0.97335\n",
            "\n",
            "Epoch 103: val_accuracy did not improve from 0.97335\n",
            "\n",
            "Epoch 104: val_accuracy did not improve from 0.97335\n",
            "\n",
            "Epoch 105: val_accuracy did not improve from 0.97335\n",
            "\n",
            "Epoch 106: val_accuracy did not improve from 0.97335\n",
            "\n",
            "Epoch 107: val_accuracy did not improve from 0.97335\n",
            "\n",
            "Epoch 108: val_accuracy did not improve from 0.97335\n",
            "\n",
            "Epoch 109: val_accuracy did not improve from 0.97335\n",
            "\n",
            "Epoch 110: val_accuracy did not improve from 0.97335\n",
            "\n",
            "Epoch 111: val_accuracy did not improve from 0.97335\n",
            "\n",
            "Epoch 112: val_accuracy did not improve from 0.97335\n",
            "\n",
            "Epoch 113: val_accuracy did not improve from 0.97335\n",
            "\n",
            "Epoch 114: val_accuracy did not improve from 0.97335\n",
            "\n",
            "Epoch 115: val_accuracy did not improve from 0.97335\n",
            "\n",
            "Epoch 116: val_accuracy did not improve from 0.97335\n",
            "\n",
            "Epoch 117: val_accuracy did not improve from 0.97335\n",
            "\n",
            "Epoch 118: val_accuracy did not improve from 0.97335\n",
            "\n",
            "Epoch 119: val_accuracy did not improve from 0.97335\n",
            "\n",
            "Epoch 120: val_accuracy did not improve from 0.97335\n",
            "\n",
            "Epoch 121: val_accuracy did not improve from 0.97335\n",
            "\n",
            "Epoch 122: val_accuracy did not improve from 0.97335\n",
            "\n",
            "Epoch 123: val_accuracy did not improve from 0.97335\n",
            "\n",
            "Epoch 124: val_accuracy did not improve from 0.97335\n",
            "\n",
            "Epoch 125: val_accuracy did not improve from 0.97335\n",
            "\n",
            "Epoch 126: val_accuracy did not improve from 0.97335\n",
            "\n",
            "Epoch 127: val_accuracy did not improve from 0.97335\n",
            "\n",
            "Epoch 128: val_accuracy did not improve from 0.97335\n",
            "\n",
            "Epoch 129: val_accuracy did not improve from 0.97335\n",
            "\n",
            "Epoch 130: val_accuracy did not improve from 0.97335\n",
            "\n",
            "Epoch 131: val_accuracy did not improve from 0.97335\n",
            "\n",
            "Epoch 132: val_accuracy did not improve from 0.97335\n",
            "\n",
            "Epoch 133: val_accuracy did not improve from 0.97335\n",
            "\n",
            "Epoch 134: val_accuracy did not improve from 0.97335\n",
            "\n",
            "Epoch 135: val_accuracy did not improve from 0.97335\n",
            "\n",
            "Epoch 136: val_accuracy did not improve from 0.97335\n",
            "\n",
            "Epoch 137: val_accuracy did not improve from 0.97335\n",
            "\n",
            "Epoch 138: val_accuracy did not improve from 0.97335\n",
            "\n",
            "Epoch 139: val_accuracy did not improve from 0.97335\n",
            "\n",
            "Epoch 140: val_accuracy did not improve from 0.97335\n",
            "\n",
            "Epoch 141: val_accuracy did not improve from 0.97335\n",
            "\n",
            "Epoch 142: val_accuracy did not improve from 0.97335\n",
            "\n",
            "Epoch 143: val_accuracy did not improve from 0.97335\n",
            "\n",
            "Epoch 144: val_accuracy did not improve from 0.97335\n",
            "\n",
            "Epoch 145: val_accuracy did not improve from 0.97335\n",
            "\n",
            "Epoch 146: val_accuracy did not improve from 0.97335\n",
            "\n",
            "Epoch 147: val_accuracy did not improve from 0.97335\n",
            "\n",
            "Epoch 148: val_accuracy did not improve from 0.97335\n",
            "\n",
            "Epoch 149: val_accuracy did not improve from 0.97335\n",
            "\n",
            "Epoch 150: val_accuracy did not improve from 0.97335\n"
          ]
        },
        {
          "output_type": "execute_result",
          "data": {
            "text/plain": [
              "<keras.src.callbacks.History at 0x7cd8abe22470>"
            ]
          },
          "metadata": {},
          "execution_count": 48
        }
      ]
    },
    {
      "cell_type": "markdown",
      "source": [
        "# Checkpoint Best Neural Network Model Only"
      ],
      "metadata": {
        "id": "JNTLUbmVeOp-"
      }
    },
    {
      "cell_type": "code",
      "source": [
        "# checkpoint\n",
        "filepath=\"/content/drive/MyDrive/Assignment 8.1/weights.best.hdf5\"\n",
        "checkpoint = ModelCheckpoint(filepath, monitor='val_accuracy', verbose=1, save_best_only=True, mode='max')\n",
        "callbacks_list = [checkpoint]\n",
        "# Fit the model\n",
        "model.fit(x, y, validation_split=0.33, epochs=100, batch_size=10, callbacks=callbacks_list, verbose=0)"
      ],
      "metadata": {
        "colab": {
          "base_uri": "https://localhost:8080/"
        },
        "id": "N9IZ6rPdeZ6Y",
        "outputId": "c4e030aa-99df-4698-fb90-bbb8bc07ca6c"
      },
      "execution_count": null,
      "outputs": [
        {
          "output_type": "stream",
          "name": "stdout",
          "text": [
            "\n",
            "Epoch 1: val_accuracy improved from -inf to 0.97153, saving model to /content/drive/MyDrive/Assignment 8.1/weights.best.hdf5\n"
          ]
        },
        {
          "output_type": "stream",
          "name": "stderr",
          "text": [
            "/usr/local/lib/python3.10/dist-packages/keras/src/engine/training.py:3103: UserWarning: You are saving your model as an HDF5 file via `model.save()`. This file format is considered legacy. We recommend using instead the native Keras format, e.g. `model.save('my_model.keras')`.\n",
            "  saving_api.save_model(\n"
          ]
        },
        {
          "output_type": "stream",
          "name": "stdout",
          "text": [
            "\n",
            "Epoch 2: val_accuracy did not improve from 0.97153\n",
            "\n",
            "Epoch 3: val_accuracy did not improve from 0.97153\n",
            "\n",
            "Epoch 4: val_accuracy did not improve from 0.97153\n",
            "\n",
            "Epoch 5: val_accuracy did not improve from 0.97153\n",
            "\n",
            "Epoch 6: val_accuracy improved from 0.97153 to 0.97274, saving model to /content/drive/MyDrive/Assignment 8.1/weights.best.hdf5\n",
            "\n",
            "Epoch 7: val_accuracy improved from 0.97274 to 0.97396, saving model to /content/drive/MyDrive/Assignment 8.1/weights.best.hdf5\n",
            "\n",
            "Epoch 8: val_accuracy did not improve from 0.97396\n",
            "\n",
            "Epoch 9: val_accuracy did not improve from 0.97396\n",
            "\n",
            "Epoch 10: val_accuracy did not improve from 0.97396\n",
            "\n",
            "Epoch 11: val_accuracy did not improve from 0.97396\n",
            "\n",
            "Epoch 12: val_accuracy did not improve from 0.97396\n",
            "\n",
            "Epoch 13: val_accuracy did not improve from 0.97396\n",
            "\n",
            "Epoch 14: val_accuracy did not improve from 0.97396\n",
            "\n",
            "Epoch 15: val_accuracy did not improve from 0.97396\n",
            "\n",
            "Epoch 16: val_accuracy did not improve from 0.97396\n",
            "\n",
            "Epoch 17: val_accuracy did not improve from 0.97396\n",
            "\n",
            "Epoch 18: val_accuracy did not improve from 0.97396\n",
            "\n",
            "Epoch 19: val_accuracy did not improve from 0.97396\n",
            "\n",
            "Epoch 20: val_accuracy did not improve from 0.97396\n",
            "\n",
            "Epoch 21: val_accuracy did not improve from 0.97396\n",
            "\n",
            "Epoch 22: val_accuracy did not improve from 0.97396\n",
            "\n",
            "Epoch 23: val_accuracy did not improve from 0.97396\n",
            "\n",
            "Epoch 24: val_accuracy did not improve from 0.97396\n",
            "\n",
            "Epoch 25: val_accuracy did not improve from 0.97396\n",
            "\n",
            "Epoch 26: val_accuracy did not improve from 0.97396\n",
            "\n",
            "Epoch 27: val_accuracy did not improve from 0.97396\n",
            "\n",
            "Epoch 28: val_accuracy did not improve from 0.97396\n",
            "\n",
            "Epoch 29: val_accuracy did not improve from 0.97396\n",
            "\n",
            "Epoch 30: val_accuracy did not improve from 0.97396\n",
            "\n",
            "Epoch 31: val_accuracy did not improve from 0.97396\n",
            "\n",
            "Epoch 32: val_accuracy did not improve from 0.97396\n",
            "\n",
            "Epoch 33: val_accuracy did not improve from 0.97396\n",
            "\n",
            "Epoch 34: val_accuracy did not improve from 0.97396\n",
            "\n",
            "Epoch 35: val_accuracy did not improve from 0.97396\n",
            "\n",
            "Epoch 36: val_accuracy did not improve from 0.97396\n",
            "\n",
            "Epoch 37: val_accuracy did not improve from 0.97396\n",
            "\n",
            "Epoch 38: val_accuracy did not improve from 0.97396\n",
            "\n",
            "Epoch 39: val_accuracy did not improve from 0.97396\n",
            "\n",
            "Epoch 40: val_accuracy did not improve from 0.97396\n",
            "\n",
            "Epoch 41: val_accuracy did not improve from 0.97396\n",
            "\n",
            "Epoch 42: val_accuracy did not improve from 0.97396\n",
            "\n",
            "Epoch 43: val_accuracy did not improve from 0.97396\n",
            "\n",
            "Epoch 44: val_accuracy did not improve from 0.97396\n",
            "\n",
            "Epoch 45: val_accuracy did not improve from 0.97396\n",
            "\n",
            "Epoch 46: val_accuracy did not improve from 0.97396\n",
            "\n",
            "Epoch 47: val_accuracy did not improve from 0.97396\n",
            "\n",
            "Epoch 48: val_accuracy did not improve from 0.97396\n",
            "\n",
            "Epoch 49: val_accuracy did not improve from 0.97396\n",
            "\n",
            "Epoch 50: val_accuracy did not improve from 0.97396\n",
            "\n",
            "Epoch 51: val_accuracy did not improve from 0.97396\n",
            "\n",
            "Epoch 52: val_accuracy did not improve from 0.97396\n",
            "\n",
            "Epoch 53: val_accuracy did not improve from 0.97396\n",
            "\n",
            "Epoch 54: val_accuracy did not improve from 0.97396\n",
            "\n",
            "Epoch 55: val_accuracy did not improve from 0.97396\n",
            "\n",
            "Epoch 56: val_accuracy did not improve from 0.97396\n",
            "\n",
            "Epoch 57: val_accuracy did not improve from 0.97396\n",
            "\n",
            "Epoch 58: val_accuracy did not improve from 0.97396\n",
            "\n",
            "Epoch 59: val_accuracy did not improve from 0.97396\n",
            "\n",
            "Epoch 60: val_accuracy did not improve from 0.97396\n",
            "\n",
            "Epoch 61: val_accuracy did not improve from 0.97396\n",
            "\n",
            "Epoch 62: val_accuracy did not improve from 0.97396\n",
            "\n",
            "Epoch 63: val_accuracy did not improve from 0.97396\n",
            "\n",
            "Epoch 64: val_accuracy did not improve from 0.97396\n",
            "\n",
            "Epoch 65: val_accuracy did not improve from 0.97396\n",
            "\n",
            "Epoch 66: val_accuracy did not improve from 0.97396\n",
            "\n",
            "Epoch 67: val_accuracy did not improve from 0.97396\n",
            "\n",
            "Epoch 68: val_accuracy did not improve from 0.97396\n",
            "\n",
            "Epoch 69: val_accuracy did not improve from 0.97396\n",
            "\n",
            "Epoch 70: val_accuracy did not improve from 0.97396\n",
            "\n",
            "Epoch 71: val_accuracy did not improve from 0.97396\n",
            "\n",
            "Epoch 72: val_accuracy did not improve from 0.97396\n",
            "\n",
            "Epoch 73: val_accuracy did not improve from 0.97396\n",
            "\n",
            "Epoch 74: val_accuracy did not improve from 0.97396\n",
            "\n",
            "Epoch 75: val_accuracy did not improve from 0.97396\n",
            "\n",
            "Epoch 76: val_accuracy did not improve from 0.97396\n",
            "\n",
            "Epoch 77: val_accuracy improved from 0.97396 to 0.97456, saving model to /content/drive/MyDrive/Assignment 8.1/weights.best.hdf5\n",
            "\n",
            "Epoch 78: val_accuracy did not improve from 0.97456\n",
            "\n",
            "Epoch 79: val_accuracy did not improve from 0.97456\n",
            "\n",
            "Epoch 80: val_accuracy did not improve from 0.97456\n",
            "\n",
            "Epoch 81: val_accuracy did not improve from 0.97456\n",
            "\n",
            "Epoch 82: val_accuracy did not improve from 0.97456\n",
            "\n",
            "Epoch 83: val_accuracy did not improve from 0.97456\n",
            "\n",
            "Epoch 84: val_accuracy did not improve from 0.97456\n",
            "\n",
            "Epoch 85: val_accuracy did not improve from 0.97456\n",
            "\n",
            "Epoch 86: val_accuracy did not improve from 0.97456\n",
            "\n",
            "Epoch 87: val_accuracy did not improve from 0.97456\n",
            "\n",
            "Epoch 88: val_accuracy did not improve from 0.97456\n",
            "\n",
            "Epoch 89: val_accuracy did not improve from 0.97456\n",
            "\n",
            "Epoch 90: val_accuracy did not improve from 0.97456\n",
            "\n",
            "Epoch 91: val_accuracy did not improve from 0.97456\n",
            "\n",
            "Epoch 92: val_accuracy did not improve from 0.97456\n",
            "\n",
            "Epoch 93: val_accuracy did not improve from 0.97456\n",
            "\n",
            "Epoch 94: val_accuracy did not improve from 0.97456\n",
            "\n",
            "Epoch 95: val_accuracy did not improve from 0.97456\n",
            "\n",
            "Epoch 96: val_accuracy did not improve from 0.97456\n",
            "\n",
            "Epoch 97: val_accuracy did not improve from 0.97456\n",
            "\n",
            "Epoch 98: val_accuracy did not improve from 0.97456\n",
            "\n",
            "Epoch 99: val_accuracy did not improve from 0.97456\n",
            "\n",
            "Epoch 100: val_accuracy did not improve from 0.97456\n"
          ]
        },
        {
          "output_type": "execute_result",
          "data": {
            "text/plain": [
              "<keras.src.callbacks.History at 0x7cd8ac744220>"
            ]
          },
          "metadata": {},
          "execution_count": 50
        }
      ]
    },
    {
      "cell_type": "markdown",
      "source": [
        "#Loading a Saved Neural Network Model"
      ],
      "metadata": {
        "id": "n0IfzOdZfb5C"
      }
    },
    {
      "cell_type": "code",
      "source": [
        "model2= Sequential()\n",
        "model2.add(Dense(4, input_dim=7, kernel_initializer = 'uniform' , activation= 'relu' ))\n",
        "model2.add(Dense(8, kernel_initializer= 'uniform' , activation= 'relu' ))\n",
        "model2.add(Dense(16, kernel_initializer= 'uniform' , activation= 'relu' ))\n",
        "model2.add(Dense(1, kernel_initializer= 'uniform' , activation= 'sigmoid' ))"
      ],
      "metadata": {
        "id": "FayJE2E1fbB4"
      },
      "execution_count": null,
      "outputs": []
    },
    {
      "cell_type": "code",
      "source": [
        "# load weights\n",
        "model2.load_weights(\"/content/drive/MyDrive/Assignment 8.1/weights.best.hdf5\")"
      ],
      "metadata": {
        "id": "Oqeixpz6gnbp"
      },
      "execution_count": null,
      "outputs": []
    },
    {
      "cell_type": "code",
      "source": [
        "# Compile model (required to make predictions)\n",
        "model2.compile(loss= 'binary_crossentropy' , optimizer= 'adam' , metrics=[ 'accuracy' ])\n",
        "print(\"Created model and loaded weights from file\")"
      ],
      "metadata": {
        "colab": {
          "base_uri": "https://localhost:8080/"
        },
        "id": "CS1WieQ5g7Gm",
        "outputId": "38c4c628-e1ce-4b1b-f589-d8de0c58c835"
      },
      "execution_count": null,
      "outputs": [
        {
          "output_type": "stream",
          "name": "stdout",
          "text": [
            "Created model and loaded weights from file\n"
          ]
        }
      ]
    },
    {
      "cell_type": "code",
      "source": [
        "# estimate accuracy on whole dataset using loaded weights\n",
        "scores = model2.evaluate(x, y, verbose=0)\n",
        "print(\"%s: %.2f%%\" % (model2.metrics_names[1], scores[1]*100))"
      ],
      "metadata": {
        "colab": {
          "base_uri": "https://localhost:8080/"
        },
        "id": "XBKue9X4hCZo",
        "outputId": "61eb663b-e67d-4d9e-c423-90b95e78b199"
      },
      "execution_count": null,
      "outputs": [
        {
          "output_type": "stream",
          "name": "stdout",
          "text": [
            "accuracy: 97.00%\n"
          ]
        }
      ]
    },
    {
      "cell_type": "markdown",
      "source": [
        "##Summary"
      ],
      "metadata": {
        "id": "KjjMPMzuhl-6"
      }
    },
    {
      "cell_type": "markdown",
      "source": [
        "#Visualize Model Training History in Keras"
      ],
      "metadata": {
        "id": "WyaofhJWhxLf"
      }
    },
    {
      "cell_type": "code",
      "source": [
        "history = model2.fit(x, y, validation_split=0.33, epochs=150, batch_size=10, verbose=0)"
      ],
      "metadata": {
        "id": "si1jId-xiVEd"
      },
      "execution_count": null,
      "outputs": []
    },
    {
      "cell_type": "code",
      "source": [
        "# list all data in history\n",
        "print(history.history.keys())\n",
        "# summarize history for accuracy\n",
        "plt.plot(history.history['accuracy'])\n",
        "plt.plot(history.history['val_accuracy'])\n",
        "plt.title('model accuracy')\n",
        "plt.ylabel('accuracy')\n",
        "plt.xlabel('epoch')\n",
        "plt.legend(['train', 'test'], loc='upper left')\n",
        "plt.show()\n",
        "\n",
        "# summarize history for loss\n",
        "plt.plot(history.history['loss'])\n",
        "plt.plot(history.history['val_loss'])\n",
        "plt.title('model loss')\n",
        "plt.ylabel('loss')\n",
        "plt.xlabel('epoch')\n",
        "plt.legend(['train', 'test'], loc='upper left')\n",
        "plt.show()"
      ],
      "metadata": {
        "colab": {
          "base_uri": "https://localhost:8080/",
          "height": 944
        },
        "id": "LGEdqU4Uhq8K",
        "outputId": "aa0e3430-f818-4b71-f088-51e458cf6f3b"
      },
      "execution_count": null,
      "outputs": [
        {
          "output_type": "stream",
          "name": "stdout",
          "text": [
            "dict_keys(['loss', 'accuracy', 'val_loss', 'val_accuracy'])\n"
          ]
        },
        {
          "output_type": "display_data",
          "data": {
            "text/plain": [
              "<Figure size 640x480 with 1 Axes>"
            ],
            "image/png": "[encoded data removed]"
          },
          "metadata": {}
        },
        {
          "output_type": "display_data",
          "data": {
            "text/plain": [
              "<Figure size 640x480 with 1 Axes>"
            ],
            "image/png": "[encoded data removed]"
          },
          "metadata": {}
        }
      ]
    },
    {
      "cell_type": "markdown",
      "source": [
        "- The model's accuracy increases as the number of epochs increases, indicating that it is still learning. However, it still needs improvement in its performance. Flactuating between 0.962 and 0.974 (Accuracy)\n",
        "\n",
        "- The model's loss appears to be decreasing over the course of training, indicating that it is learning. However, it still needs improvement in its ability to fit the data more accurately. It fluctuates between 0.070 and 0.086 (Loss)"
      ],
      "metadata": {
        "id": "iBHEZaqDjCMr"
      }
    },
    {
      "cell_type": "markdown",
      "source": [
        "# Dropout Regularization"
      ],
      "metadata": {
        "id": "xNAm3QfsktVk"
      }
    },
    {
      "cell_type": "code",
      "source": [
        "!pip install scikeras"
      ],
      "metadata": {
        "colab": {
          "base_uri": "https://localhost:8080/"
        },
        "id": "LsiCxcYgh9JM",
        "outputId": "ed7c5da1-7183-4d03-9b86-2ba39ccc8815"
      },
      "execution_count": null,
      "outputs": [
        {
          "output_type": "stream",
          "name": "stdout",
          "text": [
            "Requirement already satisfied: scikeras in /usr/local/lib/python3.10/dist-packages (0.13.0)\n",
            "Requirement already satisfied: keras>=3.2.0 in /usr/local/lib/python3.10/dist-packages (from scikeras) (3.2.1)\n",
            "Requirement already satisfied: scikit-learn>=1.4.2 in /usr/local/lib/python3.10/dist-packages (from scikeras) (1.4.2)\n",
            "Requirement already satisfied: absl-py in /usr/local/lib/python3.10/dist-packages (from keras>=3.2.0->scikeras) (1.4.0)\n",
            "Requirement already satisfied: numpy in /usr/local/lib/python3.10/dist-packages (from keras>=3.2.0->scikeras) (1.25.2)\n",
            "Requirement already satisfied: rich in /usr/local/lib/python3.10/dist-packages (from keras>=3.2.0->scikeras) (13.7.1)\n",
            "Requirement already satisfied: namex in /usr/local/lib/python3.10/dist-packages (from keras>=3.2.0->scikeras) (0.0.8)\n",
            "Requirement already satisfied: h5py in /usr/local/lib/python3.10/dist-packages (from keras>=3.2.0->scikeras) (3.9.0)\n",
            "Requirement already satisfied: optree in /usr/local/lib/python3.10/dist-packages (from keras>=3.2.0->scikeras) (0.11.0)\n",
            "Requirement already satisfied: ml-dtypes in /usr/local/lib/python3.10/dist-packages (from keras>=3.2.0->scikeras) (0.2.0)\n",
            "Requirement already satisfied: scipy>=1.6.0 in /usr/local/lib/python3.10/dist-packages (from scikit-learn>=1.4.2->scikeras) (1.11.4)\n",
            "Requirement already satisfied: joblib>=1.2.0 in /usr/local/lib/python3.10/dist-packages (from scikit-learn>=1.4.2->scikeras) (1.4.0)\n",
            "Requirement already satisfied: threadpoolctl>=2.0.0 in /usr/local/lib/python3.10/dist-packages (from scikit-learn>=1.4.2->scikeras) (3.4.0)\n",
            "Requirement already satisfied: typing-extensions>=4.0.0 in /usr/local/lib/python3.10/dist-packages (from optree->keras>=3.2.0->scikeras) (4.11.0)\n",
            "Requirement already satisfied: markdown-it-py>=2.2.0 in /usr/local/lib/python3.10/dist-packages (from rich->keras>=3.2.0->scikeras) (3.0.0)\n",
            "Requirement already satisfied: pygments<3.0.0,>=2.13.0 in /usr/local/lib/python3.10/dist-packages (from rich->keras>=3.2.0->scikeras) (2.16.1)\n",
            "Requirement already satisfied: mdurl~=0.1 in /usr/local/lib/python3.10/dist-packages (from markdown-it-py>=2.2.0->rich->keras>=3.2.0->scikeras) (0.1.2)\n"
          ]
        }
      ]
    },
    {
      "cell_type": "code",
      "source": [
        "import math\n",
        "from pandas import read_csv\n",
        "from tensorflow.keras.models import Sequential\n",
        "from tensorflow.keras.layers import Dense\n",
        "from tensorflow.keras.layers import Dropout\n",
        "from tensorflow.keras.constraints import MaxNorm\n",
        "from tensorflow.keras.optimizers import SGD\n",
        "from scikeras.wrappers import KerasClassifier\n",
        "from sklearn.model_selection import cross_val_score\n",
        "from sklearn.model_selection import StratifiedKFold\n",
        "from sklearn.preprocessing import StandardScaler\n",
        "from sklearn.pipeline import Pipeline\n",
        "from tensorflow.keras.callbacks import LearningRateScheduler"
      ],
      "metadata": {
        "id": "JX7213RGk4_i"
      },
      "execution_count": null,
      "outputs": []
    },
    {
      "cell_type": "code",
      "source": [
        "# baseline\n",
        "def create_baseline():\n",
        "\t# create model\n",
        "\tmodel3 = Sequential()\n",
        "\tmodel3.add(Dense(32, input_shape=(7,), activation='relu'))\n",
        "\tmodel3.add(Dense(16,  activation='relu'))\n",
        "\tmodel3.add(Dense(1, activation='sigmoid'))\n",
        "\t# Compile model\n",
        "\tsgd = SGD(learning_rate=0.01, momentum=0.8)\n",
        "\tmodel3.compile(loss='binary_crossentropy', optimizer=sgd, metrics=['accuracy'])\n",
        "\treturn model3"
      ],
      "metadata": {
        "id": "uSvroCkwltW5"
      },
      "execution_count": null,
      "outputs": []
    },
    {
      "cell_type": "code",
      "source": [
        "estimators = []\n",
        "estimators.append(('standardize', StandardScaler()))\n",
        "estimators.append(('mlp', KerasClassifier(model=create_baseline, epochs=10, batch_size=16, verbose=0)))\n",
        "pipeline = Pipeline(estimators)\n",
        "kfold = StratifiedKFold(n_splits=5, shuffle=True)\n",
        "results = cross_val_score(pipeline, x, y, cv=kfold)\n",
        "print(\"Baseline: %.2f%% (%.2f%%)\" % (results.mean()*100, results.std()*100))"
      ],
      "metadata": {
        "colab": {
          "base_uri": "https://localhost:8080/"
        },
        "id": "uyzhT5aVl3l3",
        "outputId": "ec23a9af-c125-4f84-a8ad-da29e3184125"
      },
      "execution_count": null,
      "outputs": [
        {
          "output_type": "stream",
          "name": "stderr",
          "text": [
            "/usr/local/lib/python3.10/dist-packages/keras/src/layers/core/dense.py:86: UserWarning: Do not pass an `input_shape`/`input_dim` argument to a layer. When using Sequential models, prefer using an `Input(shape)` object as the first layer in the model instead.\n",
            "  super().__init__(activity_regularizer=activity_regularizer, **kwargs)\n",
            "/usr/local/lib/python3.10/dist-packages/keras/src/layers/core/dense.py:86: UserWarning: Do not pass an `input_shape`/`input_dim` argument to a layer. When using Sequential models, prefer using an `Input(shape)` object as the first layer in the model instead.\n",
            "  super().__init__(activity_regularizer=activity_regularizer, **kwargs)\n",
            "/usr/local/lib/python3.10/dist-packages/keras/src/layers/core/dense.py:86: UserWarning: Do not pass an `input_shape`/`input_dim` argument to a layer. When using Sequential models, prefer using an `Input(shape)` object as the first layer in the model instead.\n",
            "  super().__init__(activity_regularizer=activity_regularizer, **kwargs)\n",
            "/usr/local/lib/python3.10/dist-packages/keras/src/layers/core/dense.py:86: UserWarning: Do not pass an `input_shape`/`input_dim` argument to a layer. When using Sequential models, prefer using an `Input(shape)` object as the first layer in the model instead.\n",
            "  super().__init__(activity_regularizer=activity_regularizer, **kwargs)\n",
            "/usr/local/lib/python3.10/dist-packages/keras/src/layers/core/dense.py:86: UserWarning: Do not pass an `input_shape`/`input_dim` argument to a layer. When using Sequential models, prefer using an `Input(shape)` object as the first layer in the model instead.\n",
            "  super().__init__(activity_regularizer=activity_regularizer, **kwargs)\n"
          ]
        },
        {
          "output_type": "stream",
          "name": "stdout",
          "text": [
            "Baseline: 96.84% (0.56%)\n"
          ]
        }
      ]
    },
    {
      "cell_type": "markdown",
      "source": [
        "#Dropout Visible Layer"
      ],
      "metadata": {
        "id": "4ulTFz2P50qy"
      }
    },
    {
      "cell_type": "code",
      "source": [
        "def create_model():\n",
        "\t# create model\n",
        "\tmodel4 = Sequential()\n",
        "\tmodel4.add(Dropout(0.5, input_shape=(7,)))\n",
        "\tmodel4.add(Dense(32, activation='relu', kernel_constraint=MaxNorm(2)))\n",
        "\tmodel4.add(Dense(16, activation='relu', kernel_constraint=MaxNorm(2)))\n",
        "\tmodel4.add(Dense(1, activation='sigmoid'))\n",
        "\t# Compile model\n",
        "\tsgd = SGD(learning_rate=0.1, momentum=0.9)\n",
        "\tmodel4.compile(loss='binary_crossentropy', optimizer=sgd, metrics=['accuracy'])\n",
        "\treturn model4"
      ],
      "metadata": {
        "id": "sFmWtwfT91Uq"
      },
      "execution_count": null,
      "outputs": []
    },
    {
      "cell_type": "code",
      "source": [
        "estimators = []\n",
        "estimators.append(('standardize', StandardScaler()))\n",
        "estimators.append(('mlp', KerasClassifier(model=create_model, epochs=15, batch_size=16, verbose=0)))\n",
        "pipeline = Pipeline(estimators)\n",
        "kfold = StratifiedKFold(n_splits=5, shuffle=True)\n",
        "results = cross_val_score(pipeline, x, y, cv=kfold)\n",
        "print(\"Visible Layer: %.2f%% (%.2f%%)\" % (results.mean()*100, results.std()*100))"
      ],
      "metadata": {
        "colab": {
          "base_uri": "https://localhost:8080/"
        },
        "id": "o0fCawdX-rF-",
        "outputId": "39fdf08a-b881-4ed1-a3ec-4d28c3153e8c"
      },
      "execution_count": null,
      "outputs": [
        {
          "output_type": "stream",
          "name": "stderr",
          "text": [
            "/usr/local/lib/python3.10/dist-packages/keras/src/layers/regularization/dropout.py:42: UserWarning: Do not pass an `input_shape`/`input_dim` argument to a layer. When using Sequential models, prefer using an `Input(shape)` object as the first layer in the model instead.\n",
            "  super().__init__(**kwargs)\n",
            "/usr/local/lib/python3.10/dist-packages/keras/src/layers/regularization/dropout.py:42: UserWarning: Do not pass an `input_shape`/`input_dim` argument to a layer. When using Sequential models, prefer using an `Input(shape)` object as the first layer in the model instead.\n",
            "  super().__init__(**kwargs)\n",
            "/usr/local/lib/python3.10/dist-packages/keras/src/layers/regularization/dropout.py:42: UserWarning: Do not pass an `input_shape`/`input_dim` argument to a layer. When using Sequential models, prefer using an `Input(shape)` object as the first layer in the model instead.\n",
            "  super().__init__(**kwargs)\n",
            "/usr/local/lib/python3.10/dist-packages/keras/src/layers/regularization/dropout.py:42: UserWarning: Do not pass an `input_shape`/`input_dim` argument to a layer. When using Sequential models, prefer using an `Input(shape)` object as the first layer in the model instead.\n",
            "  super().__init__(**kwargs)\n",
            "/usr/local/lib/python3.10/dist-packages/keras/src/layers/regularization/dropout.py:42: UserWarning: Do not pass an `input_shape`/`input_dim` argument to a layer. When using Sequential models, prefer using an `Input(shape)` object as the first layer in the model instead.\n",
            "  super().__init__(**kwargs)\n"
          ]
        },
        {
          "output_type": "stream",
          "name": "stdout",
          "text": [
            "Visible Layer: 96.12% (0.45%)\n"
          ]
        }
      ]
    },
    {
      "cell_type": "markdown",
      "source": [
        "#Dropout Hidden Layer"
      ],
      "metadata": {
        "id": "n-aRlpGV9xbF"
      }
    },
    {
      "cell_type": "code",
      "source": [
        "# dropout in hidden layers with weight constraint\n",
        "def create_model():\n",
        "\t# create model\n",
        "\tmodel5 = Sequential()\n",
        "\tmodel5.add(Dense(32, input_shape=(7,), activation='relu', kernel_constraint=MaxNorm(2)))\n",
        "\tmodel5.add(Dropout(0.5))\n",
        "\tmodel5.add(Dense(16, activation='relu', kernel_constraint=MaxNorm(2)))\n",
        "\tmodel5.add(Dropout(0.5))\n",
        "\tmodel5.add(Dense(1, activation='sigmoid'))\n",
        "\t# Compile model\n",
        "\tsgd = SGD(learning_rate=0.1, momentum=0.9)\n",
        "\tmodel5.compile(loss='binary_crossentropy', optimizer=sgd, metrics=['accuracy'])\n",
        "\treturn model5"
      ],
      "metadata": {
        "id": "v2CyLVK56Lmu"
      },
      "execution_count": null,
      "outputs": []
    },
    {
      "cell_type": "code",
      "source": [
        "estimators = []\n",
        "estimators.append(('standardize', StandardScaler()))\n",
        "estimators.append(('mlp', KerasClassifier(model=create_model, epochs=15, batch_size=16, verbose=0)))\n",
        "pipeline = Pipeline(estimators)\n",
        "kfold = StratifiedKFold(n_splits=5, shuffle=True)\n",
        "results = cross_val_score(pipeline, x, y, cv=kfold)\n",
        "print(\"Hidden Layer: %.2f%% (%.2f%%)\" % (results.mean()*100, results.std()*100))"
      ],
      "metadata": {
        "colab": {
          "base_uri": "https://localhost:8080/"
        },
        "id": "t8AzxPsc70O-",
        "outputId": "eb430f5f-5225-455a-b66a-21ddde31e3f7"
      },
      "execution_count": null,
      "outputs": [
        {
          "output_type": "stream",
          "name": "stderr",
          "text": [
            "/usr/local/lib/python3.10/dist-packages/keras/src/layers/core/dense.py:86: UserWarning: Do not pass an `input_shape`/`input_dim` argument to a layer. When using Sequential models, prefer using an `Input(shape)` object as the first layer in the model instead.\n",
            "  super().__init__(activity_regularizer=activity_regularizer, **kwargs)\n",
            "/usr/local/lib/python3.10/dist-packages/keras/src/layers/core/dense.py:86: UserWarning: Do not pass an `input_shape`/`input_dim` argument to a layer. When using Sequential models, prefer using an `Input(shape)` object as the first layer in the model instead.\n",
            "  super().__init__(activity_regularizer=activity_regularizer, **kwargs)\n",
            "/usr/local/lib/python3.10/dist-packages/keras/src/layers/core/dense.py:86: UserWarning: Do not pass an `input_shape`/`input_dim` argument to a layer. When using Sequential models, prefer using an `Input(shape)` object as the first layer in the model instead.\n",
            "  super().__init__(activity_regularizer=activity_regularizer, **kwargs)\n",
            "/usr/local/lib/python3.10/dist-packages/keras/src/layers/core/dense.py:86: UserWarning: Do not pass an `input_shape`/`input_dim` argument to a layer. When using Sequential models, prefer using an `Input(shape)` object as the first layer in the model instead.\n",
            "  super().__init__(activity_regularizer=activity_regularizer, **kwargs)\n",
            "/usr/local/lib/python3.10/dist-packages/keras/src/layers/core/dense.py:86: UserWarning: Do not pass an `input_shape`/`input_dim` argument to a layer. When using Sequential models, prefer using an `Input(shape)` object as the first layer in the model instead.\n",
            "  super().__init__(activity_regularizer=activity_regularizer, **kwargs)\n"
          ]
        },
        {
          "output_type": "stream",
          "name": "stdout",
          "text": [
            "Hidden Layer: 96.66% (0.55%)\n"
          ]
        }
      ]
    },
    {
      "cell_type": "markdown",
      "source": [
        "#Time-based learning rate schedule"
      ],
      "metadata": {
        "id": "mS6eqaH0_zBY"
      }
    },
    {
      "cell_type": "code",
      "source": [
        "# create model\n",
        "model6 = Sequential()\n",
        "model6.add(Dense(16, input_shape=(7,), activation='relu'))\n",
        "model6.add(Dense(1, activation='sigmoid'))\n",
        "\n",
        "# Compile model\n",
        "epochs = 30\n",
        "learning_rate = 0.1\n",
        "decay_rate = learning_rate / epochs\n",
        "momentum = 0.5\n",
        "sgd = SGD(learning_rate=learning_rate, momentum=momentum, decay=decay_rate, nesterov=False)\n",
        "model6.compile(loss='binary_crossentropy', optimizer=sgd, metrics=['accuracy'])\n",
        "\n",
        "# Fit the model\n",
        "model6.fit(x, y, validation_split=0.33, epochs=epochs, batch_size=28, verbose=2)"
      ],
      "metadata": {
        "colab": {
          "base_uri": "https://localhost:8080/"
        },
        "id": "ihKJHE0r_qoN",
        "outputId": "5c0fa458-020f-4b02-e884-7f0a21f948c3"
      },
      "execution_count": null,
      "outputs": [
        {
          "output_type": "stream",
          "name": "stdout",
          "text": [
            "Epoch 1/30\n"
          ]
        },
        {
          "output_type": "stream",
          "name": "stderr",
          "text": [
            "/usr/local/lib/python3.10/dist-packages/keras/src/layers/core/dense.py:86: UserWarning: Do not pass an `input_shape`/`input_dim` argument to a layer. When using Sequential models, prefer using an `Input(shape)` object as the first layer in the model instead.\n",
            "  super().__init__(activity_regularizer=activity_regularizer, **kwargs)\n",
            "/usr/local/lib/python3.10/dist-packages/keras/src/optimizers/base_optimizer.py:34: UserWarning: Argument `decay` is no longer supported and will be ignored.\n",
            "  warnings.warn(\n"
          ]
        },
        {
          "output_type": "stream",
          "name": "stdout",
          "text": [
            "120/120 - 1s - 9ms/step - accuracy: 0.6081 - loss: 0.7166 - val_accuracy: 0.5754 - val_loss: 0.6419\n",
            "Epoch 2/30\n",
            "120/120 - 0s - 3ms/step - accuracy: 0.7669 - loss: 0.4796 - val_accuracy: 0.6717 - val_loss: 0.6338\n",
            "Epoch 3/30\n",
            "120/120 - 1s - 4ms/step - accuracy: 0.9072 - loss: 0.2386 - val_accuracy: 0.9594 - val_loss: 0.1771\n",
            "Epoch 4/30\n",
            "120/120 - 0s - 3ms/step - accuracy: 0.9531 - loss: 0.1456 - val_accuracy: 0.9594 - val_loss: 0.1481\n",
            "Epoch 5/30\n",
            "120/120 - 0s - 3ms/step - accuracy: 0.9469 - loss: 0.1510 - val_accuracy: 0.9540 - val_loss: 0.1076\n",
            "Epoch 6/30\n",
            "120/120 - 0s - 3ms/step - accuracy: 0.9552 - loss: 0.1238 - val_accuracy: 0.9509 - val_loss: 0.0977\n",
            "Epoch 7/30\n",
            "120/120 - 1s - 5ms/step - accuracy: 0.9478 - loss: 0.1291 - val_accuracy: 0.9546 - val_loss: 0.1020\n",
            "Epoch 8/30\n",
            "120/120 - 1s - 6ms/step - accuracy: 0.9516 - loss: 0.1291 - val_accuracy: 0.9528 - val_loss: 0.0975\n",
            "Epoch 9/30\n",
            "120/120 - 1s - 6ms/step - accuracy: 0.9522 - loss: 0.1128 - val_accuracy: 0.7941 - val_loss: 0.4376\n",
            "Epoch 10/30\n",
            "120/120 - 0s - 4ms/step - accuracy: 0.9522 - loss: 0.1203 - val_accuracy: 0.9546 - val_loss: 0.1095\n",
            "Epoch 11/30\n",
            "120/120 - 0s - 4ms/step - accuracy: 0.9543 - loss: 0.1116 - val_accuracy: 0.9594 - val_loss: 0.0913\n",
            "Epoch 12/30\n",
            "120/120 - 0s - 4ms/step - accuracy: 0.9582 - loss: 0.1081 - val_accuracy: 0.9540 - val_loss: 0.1087\n",
            "Epoch 13/30\n",
            "120/120 - 0s - 4ms/step - accuracy: 0.9576 - loss: 0.0995 - val_accuracy: 0.9546 - val_loss: 0.1899\n",
            "Epoch 14/30\n",
            "120/120 - 0s - 4ms/step - accuracy: 0.9561 - loss: 0.1063 - val_accuracy: 0.9540 - val_loss: 0.0899\n",
            "Epoch 15/30\n",
            "120/120 - 0s - 3ms/step - accuracy: 0.9561 - loss: 0.1093 - val_accuracy: 0.9594 - val_loss: 0.1022\n",
            "Epoch 16/30\n",
            "120/120 - 1s - 5ms/step - accuracy: 0.9531 - loss: 0.1040 - val_accuracy: 0.9540 - val_loss: 0.0916\n",
            "Epoch 17/30\n",
            "120/120 - 1s - 5ms/step - accuracy: 0.9597 - loss: 0.1066 - val_accuracy: 0.9394 - val_loss: 0.2363\n",
            "Epoch 18/30\n",
            "120/120 - 0s - 3ms/step - accuracy: 0.9594 - loss: 0.1050 - val_accuracy: 0.9546 - val_loss: 0.1170\n",
            "Epoch 19/30\n",
            "120/120 - 1s - 5ms/step - accuracy: 0.9594 - loss: 0.0987 - val_accuracy: 0.9570 - val_loss: 0.0874\n",
            "Epoch 20/30\n",
            "120/120 - 1s - 5ms/step - accuracy: 0.9582 - loss: 0.1094 - val_accuracy: 0.9546 - val_loss: 0.1272\n",
            "Epoch 21/30\n",
            "120/120 - 1s - 4ms/step - accuracy: 0.9576 - loss: 0.1001 - val_accuracy: 0.9594 - val_loss: 0.1136\n",
            "Epoch 22/30\n",
            "120/120 - 0s - 3ms/step - accuracy: 0.9570 - loss: 0.1043 - val_accuracy: 0.9594 - val_loss: 0.1078\n",
            "Epoch 23/30\n",
            "120/120 - 1s - 5ms/step - accuracy: 0.9552 - loss: 0.0993 - val_accuracy: 0.9594 - val_loss: 0.0904\n",
            "Epoch 24/30\n",
            "120/120 - 1s - 4ms/step - accuracy: 0.9564 - loss: 0.1042 - val_accuracy: 0.9546 - val_loss: 0.1689\n",
            "Epoch 25/30\n",
            "120/120 - 0s - 3ms/step - accuracy: 0.9567 - loss: 0.0990 - val_accuracy: 0.9612 - val_loss: 0.0859\n",
            "Epoch 26/30\n",
            "120/120 - 0s - 2ms/step - accuracy: 0.9603 - loss: 0.0996 - val_accuracy: 0.9594 - val_loss: 0.1289\n",
            "Epoch 27/30\n",
            "120/120 - 0s - 3ms/step - accuracy: 0.9603 - loss: 0.1005 - val_accuracy: 0.9564 - val_loss: 0.0861\n",
            "Epoch 28/30\n",
            "120/120 - 0s - 3ms/step - accuracy: 0.9564 - loss: 0.1012 - val_accuracy: 0.9546 - val_loss: 0.1041\n",
            "Epoch 29/30\n",
            "120/120 - 1s - 5ms/step - accuracy: 0.9558 - loss: 0.1004 - val_accuracy: 0.9594 - val_loss: 0.1080\n",
            "Epoch 30/30\n",
            "120/120 - 0s - 3ms/step - accuracy: 0.9582 - loss: 0.0971 - val_accuracy: 0.9540 - val_loss: 0.0877\n"
          ]
        },
        {
          "output_type": "execute_result",
          "data": {
            "text/plain": [
              "<keras.src.callbacks.history.History at 0x7811ce8c31f0>"
            ]
          },
          "metadata": {},
          "execution_count": 49
        }
      ]
    },
    {
      "cell_type": "markdown",
      "source": [
        "#Drop-based learning rate schedule"
      ],
      "metadata": {
        "id": "3P_A7JAV9Kor"
      }
    },
    {
      "cell_type": "code",
      "source": [
        "# learning rate schedule\n",
        "def step_decay(epoch):\n",
        "\tinitial_lrate = 0.1\n",
        "\tdrop = 0.5\n",
        "\tepochs_drop = 5.0\n",
        "\tlrate = initial_lrate * math.pow(drop, math.floor((1+epoch)/epochs_drop))\n",
        "\treturn lrate"
      ],
      "metadata": {
        "id": "KftaiDj-Cqqd"
      },
      "execution_count": null,
      "outputs": []
    },
    {
      "cell_type": "code",
      "source": [
        "# create model\n",
        "model7 = Sequential()\n",
        "model7.add(Dense(16, input_shape=(7,), activation='relu'))\n",
        "model7.add(Dense(8, activation='relu'))\n",
        "model7.add(Dense(1, activation='sigmoid'))\n",
        "\n",
        "# Compile model\n",
        "sgd = SGD(learning_rate=0.0, momentum=0.9)\n",
        "model7.compile(loss='binary_crossentropy', optimizer=sgd, metrics=['accuracy'])\n",
        "\n",
        "# learning schedule callback\n",
        "lrate = LearningRateScheduler(step_decay)\n",
        "callbacks_list = [lrate]\n",
        "\n",
        "# Fit the model\n",
        "model7.fit(x, y, validation_split=0.33, epochs=50, batch_size=28, callbacks=callbacks_list, verbose=2)"
      ],
      "metadata": {
        "colab": {
          "base_uri": "https://localhost:8080/"
        },
        "id": "lV1SEpyVCwo8",
        "outputId": "b212eedc-bd35-4370-a6f5-3730ab000d91"
      },
      "execution_count": null,
      "outputs": [
        {
          "output_type": "stream",
          "name": "stdout",
          "text": [
            "Epoch 1/50\n"
          ]
        },
        {
          "output_type": "stream",
          "name": "stderr",
          "text": [
            "/usr/local/lib/python3.10/dist-packages/keras/src/layers/core/dense.py:86: UserWarning: Do not pass an `input_shape`/`input_dim` argument to a layer. When using Sequential models, prefer using an `Input(shape)` object as the first layer in the model instead.\n",
            "  super().__init__(activity_regularizer=activity_regularizer, **kwargs)\n"
          ]
        },
        {
          "output_type": "stream",
          "name": "stdout",
          "text": [
            "120/120 - 2s - 14ms/step - accuracy: 0.5045 - loss: 0.7038 - val_accuracy: 0.4906 - val_loss: 0.7039 - learning_rate: 0.1000\n",
            "Epoch 2/50\n",
            "120/120 - 0s - 4ms/step - accuracy: 0.4949 - loss: 0.6967 - val_accuracy: 0.4906 - val_loss: 0.7044 - learning_rate: 0.1000\n",
            "Epoch 3/50\n",
            "120/120 - 0s - 3ms/step - accuracy: 0.4896 - loss: 0.6979 - val_accuracy: 0.5094 - val_loss: 0.6930 - learning_rate: 0.1000\n",
            "Epoch 4/50\n",
            "120/120 - 1s - 4ms/step - accuracy: 0.4991 - loss: 0.6967 - val_accuracy: 0.5094 - val_loss: 0.6931 - learning_rate: 0.1000\n",
            "Epoch 5/50\n",
            "120/120 - 0s - 3ms/step - accuracy: 0.4967 - loss: 0.6942 - val_accuracy: 0.5094 - val_loss: 0.6944 - learning_rate: 0.0500\n",
            "Epoch 6/50\n",
            "120/120 - 1s - 5ms/step - accuracy: 0.5015 - loss: 0.6950 - val_accuracy: 0.4906 - val_loss: 0.6944 - learning_rate: 0.0500\n",
            "Epoch 7/50\n",
            "120/120 - 0s - 3ms/step - accuracy: 0.5212 - loss: 0.6930 - val_accuracy: 0.4906 - val_loss: 0.6986 - learning_rate: 0.0500\n",
            "Epoch 8/50\n",
            "120/120 - 0s - 3ms/step - accuracy: 0.4979 - loss: 0.6944 - val_accuracy: 0.4906 - val_loss: 0.6990 - learning_rate: 0.0500\n",
            "Epoch 9/50\n",
            "120/120 - 0s - 3ms/step - accuracy: 0.5110 - loss: 0.6937 - val_accuracy: 0.4906 - val_loss: 0.6942 - learning_rate: 0.0500\n",
            "Epoch 10/50\n",
            "120/120 - 1s - 5ms/step - accuracy: 0.5122 - loss: 0.6935 - val_accuracy: 0.4906 - val_loss: 0.6950 - learning_rate: 0.0250\n",
            "Epoch 11/50\n",
            "120/120 - 1s - 5ms/step - accuracy: 0.4973 - loss: 0.6941 - val_accuracy: 0.5094 - val_loss: 0.6931 - learning_rate: 0.0250\n",
            "Epoch 12/50\n",
            "120/120 - 1s - 5ms/step - accuracy: 0.4872 - loss: 0.6940 - val_accuracy: 0.4906 - val_loss: 0.6933 - learning_rate: 0.0250\n",
            "Epoch 13/50\n",
            "120/120 - 1s - 5ms/step - accuracy: 0.4907 - loss: 0.6935 - val_accuracy: 0.4906 - val_loss: 0.6936 - learning_rate: 0.0250\n",
            "Epoch 14/50\n",
            "120/120 - 1s - 4ms/step - accuracy: 0.4961 - loss: 0.6937 - val_accuracy: 0.4906 - val_loss: 0.6963 - learning_rate: 0.0250\n",
            "Epoch 15/50\n",
            "120/120 - 0s - 2ms/step - accuracy: 0.4955 - loss: 0.6940 - val_accuracy: 0.4906 - val_loss: 0.6945 - learning_rate: 0.0125\n",
            "Epoch 16/50\n",
            "120/120 - 0s - 3ms/step - accuracy: 0.5045 - loss: 0.6932 - val_accuracy: 0.5094 - val_loss: 0.6931 - learning_rate: 0.0125\n",
            "Epoch 17/50\n",
            "120/120 - 1s - 5ms/step - accuracy: 0.4967 - loss: 0.6933 - val_accuracy: 0.4906 - val_loss: 0.6945 - learning_rate: 0.0125\n",
            "Epoch 18/50\n",
            "120/120 - 1s - 5ms/step - accuracy: 0.4824 - loss: 0.6935 - val_accuracy: 0.4906 - val_loss: 0.6942 - learning_rate: 0.0125\n",
            "Epoch 19/50\n",
            "120/120 - 0s - 2ms/step - accuracy: 0.5075 - loss: 0.6932 - val_accuracy: 0.5094 - val_loss: 0.6931 - learning_rate: 0.0125\n",
            "Epoch 20/50\n",
            "120/120 - 0s - 3ms/step - accuracy: 0.4949 - loss: 0.6935 - val_accuracy: 0.5094 - val_loss: 0.6930 - learning_rate: 0.0063\n",
            "Epoch 21/50\n",
            "120/120 - 1s - 5ms/step - accuracy: 0.4890 - loss: 0.6934 - val_accuracy: 0.5094 - val_loss: 0.6931 - learning_rate: 0.0063\n",
            "Epoch 22/50\n",
            "120/120 - 1s - 6ms/step - accuracy: 0.4997 - loss: 0.6933 - val_accuracy: 0.4906 - val_loss: 0.6934 - learning_rate: 0.0063\n",
            "Epoch 23/50\n",
            "120/120 - 1s - 4ms/step - accuracy: 0.5045 - loss: 0.6934 - val_accuracy: 0.4906 - val_loss: 0.6933 - learning_rate: 0.0063\n",
            "Epoch 24/50\n",
            "120/120 - 1s - 5ms/step - accuracy: 0.4949 - loss: 0.6934 - val_accuracy: 0.4906 - val_loss: 0.6933 - learning_rate: 0.0063\n",
            "Epoch 25/50\n",
            "120/120 - 1s - 5ms/step - accuracy: 0.5045 - loss: 0.6933 - val_accuracy: 0.4906 - val_loss: 0.6932 - learning_rate: 0.0031\n",
            "Epoch 26/50\n",
            "120/120 - 1s - 5ms/step - accuracy: 0.5045 - loss: 0.6932 - val_accuracy: 0.4906 - val_loss: 0.6934 - learning_rate: 0.0031\n",
            "Epoch 27/50\n",
            "120/120 - 1s - 4ms/step - accuracy: 0.4973 - loss: 0.6932 - val_accuracy: 0.4906 - val_loss: 0.6933 - learning_rate: 0.0031\n",
            "Epoch 28/50\n",
            "120/120 - 0s - 3ms/step - accuracy: 0.4878 - loss: 0.6933 - val_accuracy: 0.4906 - val_loss: 0.6932 - learning_rate: 0.0031\n",
            "Epoch 29/50\n",
            "120/120 - 1s - 5ms/step - accuracy: 0.4967 - loss: 0.6932 - val_accuracy: 0.4906 - val_loss: 0.6933 - learning_rate: 0.0031\n",
            "Epoch 30/50\n",
            "120/120 - 0s - 2ms/step - accuracy: 0.5045 - loss: 0.6931 - val_accuracy: 0.4906 - val_loss: 0.6933 - learning_rate: 0.0016\n",
            "Epoch 31/50\n",
            "120/120 - 0s - 2ms/step - accuracy: 0.5045 - loss: 0.6932 - val_accuracy: 0.4906 - val_loss: 0.6933 - learning_rate: 0.0016\n",
            "Epoch 32/50\n",
            "120/120 - 0s - 2ms/step - accuracy: 0.5045 - loss: 0.6932 - val_accuracy: 0.4906 - val_loss: 0.6934 - learning_rate: 0.0016\n",
            "Epoch 33/50\n",
            "120/120 - 0s - 3ms/step - accuracy: 0.5045 - loss: 0.6932 - val_accuracy: 0.4906 - val_loss: 0.6933 - learning_rate: 0.0016\n",
            "Epoch 34/50\n",
            "120/120 - 0s - 2ms/step - accuracy: 0.5045 - loss: 0.6932 - val_accuracy: 0.4906 - val_loss: 0.6934 - learning_rate: 0.0016\n",
            "Epoch 35/50\n",
            "120/120 - 0s - 3ms/step - accuracy: 0.5045 - loss: 0.6931 - val_accuracy: 0.4906 - val_loss: 0.6934 - learning_rate: 7.8125e-04\n",
            "Epoch 36/50\n",
            "120/120 - 0s - 2ms/step - accuracy: 0.5045 - loss: 0.6931 - val_accuracy: 0.4906 - val_loss: 0.6934 - learning_rate: 7.8125e-04\n",
            "Epoch 37/50\n",
            "120/120 - 0s - 3ms/step - accuracy: 0.5045 - loss: 0.6931 - val_accuracy: 0.4906 - val_loss: 0.6934 - learning_rate: 7.8125e-04\n",
            "Epoch 38/50\n",
            "120/120 - 1s - 5ms/step - accuracy: 0.5045 - loss: 0.6931 - val_accuracy: 0.4906 - val_loss: 0.6934 - learning_rate: 7.8125e-04\n",
            "Epoch 39/50\n",
            "120/120 - 1s - 5ms/step - accuracy: 0.5045 - loss: 0.6931 - val_accuracy: 0.4906 - val_loss: 0.6934 - learning_rate: 7.8125e-04\n",
            "Epoch 40/50\n",
            "120/120 - 0s - 3ms/step - accuracy: 0.5045 - loss: 0.6931 - val_accuracy: 0.4906 - val_loss: 0.6934 - learning_rate: 3.9063e-04\n",
            "Epoch 41/50\n",
            "120/120 - 1s - 5ms/step - accuracy: 0.5045 - loss: 0.6931 - val_accuracy: 0.4906 - val_loss: 0.6934 - learning_rate: 3.9063e-04\n",
            "Epoch 42/50\n",
            "120/120 - 1s - 5ms/step - accuracy: 0.5045 - loss: 0.6931 - val_accuracy: 0.4906 - val_loss: 0.6934 - learning_rate: 3.9063e-04\n",
            "Epoch 43/50\n",
            "120/120 - 1s - 5ms/step - accuracy: 0.5045 - loss: 0.6931 - val_accuracy: 0.4906 - val_loss: 0.6933 - learning_rate: 3.9063e-04\n",
            "Epoch 44/50\n",
            "120/120 - 1s - 5ms/step - accuracy: 0.5045 - loss: 0.6931 - val_accuracy: 0.4906 - val_loss: 0.6933 - learning_rate: 3.9063e-04\n",
            "Epoch 45/50\n",
            "120/120 - 0s - 2ms/step - accuracy: 0.5045 - loss: 0.6931 - val_accuracy: 0.4906 - val_loss: 0.6934 - learning_rate: 1.9531e-04\n",
            "Epoch 46/50\n",
            "120/120 - 0s - 3ms/step - accuracy: 0.5045 - loss: 0.6931 - val_accuracy: 0.4906 - val_loss: 0.6934 - learning_rate: 1.9531e-04\n",
            "Epoch 47/50\n",
            "120/120 - 1s - 5ms/step - accuracy: 0.5045 - loss: 0.6931 - val_accuracy: 0.4906 - val_loss: 0.6934 - learning_rate: 1.9531e-04\n",
            "Epoch 48/50\n",
            "120/120 - 1s - 5ms/step - accuracy: 0.5045 - loss: 0.6931 - val_accuracy: 0.4906 - val_loss: 0.6934 - learning_rate: 1.9531e-04\n",
            "Epoch 49/50\n",
            "120/120 - 0s - 4ms/step - accuracy: 0.5045 - loss: 0.6931 - val_accuracy: 0.4906 - val_loss: 0.6934 - learning_rate: 1.9531e-04\n",
            "Epoch 50/50\n",
            "120/120 - 1s - 5ms/step - accuracy: 0.5045 - loss: 0.6931 - val_accuracy: 0.4906 - val_loss: 0.6934 - learning_rate: 9.7656e-05\n"
          ]
        },
        {
          "output_type": "execute_result",
          "data": {
            "text/plain": [
              "<keras.src.callbacks.history.History at 0x7811cd275000>"
            ]
          },
          "metadata": {},
          "execution_count": 66
        }
      ]
    },
    {
      "cell_type": "markdown",
      "source": [
        "####Conclusion\n",
        "\n",
        "- In this series of tasks, I've learned how to manage and improve neural network models step by step. First, I discovered how to save models in different formats like HDF5, JSON, and YAML. This basically means keeping all the important stuff about the model, like its structure and what it's learned, in a way that's easy to understand for computers. By doing this you can see whether your model is still learning or improving so you would know how to change the accuracy in higher chances. In another activity, we didn't use callbacks, so when we trained the data it would fluctuate but here by definitely using them, the accuracy will be saved if there are changes, and if it's not changing, the last accuracy will remain. Then, I learned why it's important to save checkpoints during training. It's like saving your progress so you can pick up from where you left off if something goes wrong. Plus, I found out how to load these saved models back into the data easily. Also, in applying the dropouts, I can say that these steps can really help the model to prevent overfitting, prevent the network from memorizing the input data, and also help the data to learn in a faster way for better performance."
      ],
      "metadata": {
        "id": "YsLPk6wsupyv"
      }
    }
  ]
}